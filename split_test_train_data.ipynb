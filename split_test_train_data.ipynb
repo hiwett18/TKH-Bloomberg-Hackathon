{
 "cells": [
  {
   "cell_type": "code",
   "execution_count": 32,
   "id": "66541bd4",
   "metadata": {},
   "outputs": [],
   "source": [
    "import os\n",
    "import pandas as pd\n",
    "\n",
    "from sklearn.model_selection import train_test_split"
   ]
  },
  {
   "cell_type": "code",
   "execution_count": 2,
   "id": "926225dc",
   "metadata": {},
   "outputs": [],
   "source": [
    "input_data = pd.read_csv(\"data/output.csv\")"
   ]
  },
  {
   "cell_type": "code",
   "execution_count": 3,
   "id": "67027e0f",
   "metadata": {},
   "outputs": [],
   "source": [
    "columns_to_keep = [\"temperature\", \"dewpoint\", \"windDirection\", \"windSpeed\", \"barometricPressure\", \n",
    "                   \"visibility\", \"seaLevelPressure\", \"relativeHumidity\", \"elevation\", \"textDescription\"]\n",
    "input_data = input_data[columns_to_keep]\n",
    "\n",
    "# Remove rows that contain null data in any column\n",
    "input_data = input_data[~input_data.isna().any(axis=1)]"
   ]
  },
  {
   "cell_type": "code",
   "execution_count": 5,
   "id": "61290b9c",
   "metadata": {},
   "outputs": [
    {
     "data": {
      "text/plain": [
       "temperature           0\n",
       "dewpoint              0\n",
       "windDirection         0\n",
       "windSpeed             0\n",
       "barometricPressure    0\n",
       "visibility            0\n",
       "seaLevelPressure      0\n",
       "relativeHumidity      0\n",
       "elevation             0\n",
       "textDescription       0\n",
       "dtype: int64"
      ]
     },
     "execution_count": 5,
     "metadata": {},
     "output_type": "execute_result"
    }
   ],
   "source": [
    "input_data.isnull().sum()"
   ]
  },
  {
   "cell_type": "code",
   "execution_count": 15,
   "id": "3d0009d3",
   "metadata": {},
   "outputs": [],
   "source": [
    "y_data = input_data['textDescription']\n",
    "x_data = input_data.drop('textDescription', axis=1)"
   ]
  },
  {
   "cell_type": "code",
   "execution_count": 24,
   "id": "607c069b",
   "metadata": {},
   "outputs": [],
   "source": [
    "x_train, x_test, y_train, y_test = train_test_split(x_data, y_data, test_size=0.20, random_state=42)"
   ]
  },
  {
   "cell_type": "code",
   "execution_count": 29,
   "id": "b1502a1e",
   "metadata": {},
   "outputs": [
    {
     "data": {
      "text/plain": [
       "Cloudy                        140\n",
       "Clear                         129\n",
       "Mostly Cloudy                  87\n",
       "Mostly Clear                   42\n",
       "Light Rain                     29\n",
       "Partly Cloudy                  23\n",
       "Fog/Mist                       22\n",
       "Light Rain and Fog/Mist        15\n",
       "Light Drizzle and Fog/Mist     14\n",
       "Light Drizzle                   6\n",
       "Rain                            2\n",
       "Haze                            1\n",
       "Mostly Clear and Windy          1\n",
       "Heavy Rain                      1\n",
       "Name: textDescription, dtype: int64"
      ]
     },
     "execution_count": 29,
     "metadata": {},
     "output_type": "execute_result"
    }
   ],
   "source": [
    "y_train.value_counts()"
   ]
  },
  {
   "cell_type": "code",
   "execution_count": 30,
   "id": "acca1941",
   "metadata": {},
   "outputs": [
    {
     "data": {
      "text/plain": [
       "Cloudy                        34\n",
       "Mostly Cloudy                 28\n",
       "Clear                         26\n",
       "Mostly Clear                  10\n",
       "Partly Cloudy                 10\n",
       "Light Rain                     7\n",
       "Light Rain and Fog/Mist        5\n",
       "Fog/Mist                       4\n",
       "Mostly Clear and Windy         2\n",
       "Light Drizzle                  2\n",
       "Light Drizzle and Fog/Mist     1\n",
       "Name: textDescription, dtype: int64"
      ]
     },
     "execution_count": 30,
     "metadata": {},
     "output_type": "execute_result"
    }
   ],
   "source": [
    "y_test.value_counts()"
   ]
  },
  {
   "cell_type": "code",
   "execution_count": 33,
   "id": "2f92ee08",
   "metadata": {},
   "outputs": [],
   "source": [
    "os.makedirs('data', exist_ok=True) \n",
    " \n",
    "x_train.to_csv('data/x_train.csv', index=False)\n",
    "x_test.to_csv('data/x_test.csv', index=False)\n",
    "\n",
    "y_train.to_csv('data/y_train.csv', index=False)\n",
    "y_test.to_csv('data/y_test.csv', index=False)"
   ]
  }
 ],
 "metadata": {
  "kernelspec": {
   "display_name": "Python [conda env:py310] *",
   "language": "python",
   "name": "conda-env-py310-py"
  },
  "language_info": {
   "codemirror_mode": {
    "name": "ipython",
    "version": 3
   },
   "file_extension": ".py",
   "mimetype": "text/x-python",
   "name": "python",
   "nbconvert_exporter": "python",
   "pygments_lexer": "ipython3",
   "version": "3.10.4"
  }
 },
 "nbformat": 4,
 "nbformat_minor": 5
}
