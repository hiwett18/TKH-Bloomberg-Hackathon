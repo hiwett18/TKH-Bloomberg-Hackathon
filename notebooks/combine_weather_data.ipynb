{
 "cells": [
  {
   "cell_type": "code",
   "execution_count": 1,
   "id": "f7e506f2",
   "metadata": {},
   "outputs": [],
   "source": [
    "import os\n",
    "import pandas as pd"
   ]
  },
  {
   "cell_type": "code",
   "execution_count": 2,
   "id": "fcc56e21",
   "metadata": {},
   "outputs": [],
   "source": [
    "ROOT_DIR = os.path.dirname(os.path.abspath(\".\"))\n",
    "\n",
    "data_weather_gov = pd.read_csv(f\"{ROOT_DIR}/data/data_weather_gov.csv\")\n",
    "data_open_weather_map = pd.read_csv(f\"{ROOT_DIR}/data/data_open_weather_map.csv\")"
   ]
  },
  {
   "cell_type": "code",
   "execution_count": 3,
   "id": "460ac970",
   "metadata": {},
   "outputs": [],
   "source": [
    "# Transform textDescription for weather gov data\n",
    "\n",
    "weatherMap = {\n",
    "    \"Cloudy\": \"Mostly Cloudy\",\n",
    "    \"Mostly Clear\": \"Clear\",\n",
    "    \"Light Rain\": \"Light Precipitation\",\n",
    "    \"Light Rain and Fog/Mist\":\"Light Precipitation\",\n",
    "    \"Light Drizzle and Fog/Mist\":\"Light Precipitation\",\n",
    "    \"Light Drizzle\":\"Light Precipitation\",\n",
    "    \"Rain\":\"Precipitation\",\n",
    "    \"Thunderstorms and Rain and Fog/Mist\":\"Heavy Precipitation\",\n",
    "    \"Thunderstorms and Rain\":\"Heavy Precipitation\",\n",
    "    \"Mostly Clear and Windy\": \"Clear\",\n",
    "    \"Heavy Rain and Fog/Mist\": \"Heavy Precipitation\",\n",
    "    \"Heavy Rain\": \"Heavy Precipitation\",\n",
    "    \"Thunderstorms\": \"Heavy Precipitation\",\n",
    "    \"Rain and Fog/Mist\": \"Precipitation\",\n",
    "    \"Heavy Thunderstorms and Heavy Rain and Fog/Mist\": \"Heavy Precipitation\"\n",
    "}\n",
    "\n",
    "data_weather_gov.replace({'textDescription': weatherMap}, inplace=True)"
   ]
  },
  {
   "cell_type": "code",
   "execution_count": 4,
   "id": "38614ae5",
   "metadata": {},
   "outputs": [],
   "source": [
    "# Rename dewpoint to dewPoint\n",
    "data_weather_gov.rename(columns={'dewpoint': 'dewPoint'}, inplace=True)"
   ]
  },
  {
   "cell_type": "code",
   "execution_count": 6,
   "id": "b2d2dbd5",
   "metadata": {},
   "outputs": [],
   "source": [
    "input_data = pd.concat([data_weather_gov,data_open_weather_map])"
   ]
  },
  {
   "cell_type": "code",
   "execution_count": 9,
   "id": "0043b32f",
   "metadata": {},
   "outputs": [
    {
     "data": {
      "text/plain": [
       "Index(['precipitationLast6Hours', 'visibility', 'barometricPressure',\n",
       "       'windDirection', 'relativeHumidity', 'heatIndex', 'rawMessage',\n",
       "       'timestamp', 'maxTemperatureLast24Hours', 'elevation', 'temperature',\n",
       "       'minTemperatureLast24Hours', 'precipitationLastHour',\n",
       "       'precipitationLast3Hours', 'dewPoint', 'windChill', 'windGust',\n",
       "       'seaLevelPressure', 'windSpeed', 'textDescription'],\n",
       "      dtype='object')"
      ]
     },
     "execution_count": 9,
     "metadata": {},
     "output_type": "execute_result"
    }
   ],
   "source": [
    "input_data.columns"
   ]
  },
  {
   "cell_type": "code",
   "execution_count": 7,
   "id": "1ed1896a",
   "metadata": {},
   "outputs": [
    {
     "data": {
      "text/plain": [
       "Clear                  125978\n",
       "Partly Cloudy           95256\n",
       "Mostly Cloudy           59099\n",
       "Fog/Mist                38301\n",
       "Light Precipitation     34675\n",
       "Haze                    17439\n",
       "Precipitation            8440\n",
       "Heavy Precipitation      1741\n",
       "Name: textDescription, dtype: int64"
      ]
     },
     "execution_count": 7,
     "metadata": {},
     "output_type": "execute_result"
    }
   ],
   "source": [
    "input_data['textDescription'].value_counts()"
   ]
  },
  {
   "cell_type": "code",
   "execution_count": 10,
   "id": "6ce01ef7",
   "metadata": {},
   "outputs": [],
   "source": [
    "os.makedirs(f\"{ROOT_DIR}/data\", exist_ok=True) \n",
    " \n",
    "input_data.to_csv(f\"{ROOT_DIR}/data/input_data.csv\", index=False)"
   ]
  }
 ],
 "metadata": {
  "kernelspec": {
   "display_name": "Python [conda env:py310] *",
   "language": "python",
   "name": "conda-env-py310-py"
  },
  "language_info": {
   "codemirror_mode": {
    "name": "ipython",
    "version": 3
   },
   "file_extension": ".py",
   "mimetype": "text/x-python",
   "name": "python",
   "nbconvert_exporter": "python",
   "pygments_lexer": "ipython3",
   "version": "3.10.4"
  }
 },
 "nbformat": 4,
 "nbformat_minor": 5
}
