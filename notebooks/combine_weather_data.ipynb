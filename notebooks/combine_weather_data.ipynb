{
 "cells": [
  {
   "cell_type": "code",
   "execution_count": 1,
   "id": "f7e506f2",
   "metadata": {},
   "outputs": [],
   "source": [
    "import os\n",
    "import pandas as pd"
   ]
  },
  {
   "cell_type": "code",
   "execution_count": 7,
   "id": "fcc56e21",
   "metadata": {},
   "outputs": [],
   "source": [
    "data_weather_gov = pd.read_csv(\"data/data_weather_gov.csv\")\n",
    "data_open_weather_map = pd.read_csv(\"data/data_open_weather_map.csv\")"
   ]
  },
  {
   "cell_type": "code",
   "execution_count": 9,
   "id": "460ac970",
   "metadata": {},
   "outputs": [],
   "source": [
    "# Transform textDescription for weather gov data\n",
    "\n",
    "weatherMap = {\n",
    "    \"Cloudy\": \"Mostly Cloudy\",\n",
    "    \"Mostly Clear\": \"Clear\",\n",
    "    \"Light Rain\": \"Light Precipitation\",\n",
    "    \"Light Rain and Fog/Mist\":\"Light Precipitation\",\n",
    "    \"Light Drizzle and Fog/Mist\":\"Light Precipitation\",\n",
    "    \"Light Drizzle\":\"Light Precipitation\",\n",
    "    \"Rain\":\"Precipitation\",\n",
    "    \"Thunderstorms and Rain and Fog/Mist\":\"Heavy Precipitation\",\n",
    "    \"Thunderstorms and Rain\":\"Heavy Precipitation\",\n",
    "    \"Mostly Clear and Windy\": \"Clear\",\n",
    "    \"Heavy Rain and Fog/Mist\": \"Heavy Precipitation\",\n",
    "    \"Heavy Rain\": \"Heavy Precipitation\",\n",
    "    \"Thunderstorms\": \"Heavy Precipitation\",\n",
    "    \"Rain and Fog/Mist\": \"Precipitation\",\n",
    "    \"Heavy Thunderstorms and Heavy Rain and Fog/Mist\": \"Heavy Precipitation\"\n",
    "}\n",
    "\n",
    "data_weather_gov.replace({'textDescription': weatherMap}, inplace=True)"
   ]
  },
  {
   "cell_type": "code",
   "execution_count": 11,
   "id": "b2d2dbd5",
   "metadata": {},
   "outputs": [],
   "source": [
    "input_data = pd.concat([data_weather_gov,data_open_weather_map])"
   ]
  },
  {
   "cell_type": "code",
   "execution_count": 12,
   "id": "1ed1896a",
   "metadata": {},
   "outputs": [
    {
     "data": {
      "text/plain": [
       "Clear                  125978\n",
       "Partly Cloudy           95256\n",
       "Mostly Cloudy           59099\n",
       "Fog/Mist                38301\n",
       "Light Precipitation     34675\n",
       "Haze                    17439\n",
       "Precipitation            8440\n",
       "Heavy Precipitation      1741\n",
       "Name: textDescription, dtype: int64"
      ]
     },
     "execution_count": 12,
     "metadata": {},
     "output_type": "execute_result"
    }
   ],
   "source": [
    "input_data['textDescription'].value_counts()"
   ]
  },
  {
   "cell_type": "code",
   "execution_count": 14,
   "id": "6ce01ef7",
   "metadata": {},
   "outputs": [],
   "source": [
    "os.makedirs('data', exist_ok=True) \n",
    " \n",
    "input_data.to_csv('data/input_data.csv', index=False)"
   ]
  }
 ],
 "metadata": {
  "kernelspec": {
   "display_name": "Python [conda env:py310] *",
   "language": "python",
   "name": "conda-env-py310-py"
  },
  "language_info": {
   "codemirror_mode": {
    "name": "ipython",
    "version": 3
   },
   "file_extension": ".py",
   "mimetype": "text/x-python",
   "name": "python",
   "nbconvert_exporter": "python",
   "pygments_lexer": "ipython3",
   "version": "3.10.4"
  }
 },
 "nbformat": 4,
 "nbformat_minor": 5
}
