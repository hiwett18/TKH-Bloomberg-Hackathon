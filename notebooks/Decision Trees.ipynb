{
 "cells": [
  {
   "cell_type": "code",
   "execution_count": 1,
   "metadata": {},
   "outputs": [],
   "source": [
    "import pandas as pd \n",
    "from sklearn.metrics import accuracy_score \n",
    "from sklearn.model_selection import train_test_split\n",
    "from sklearn.tree import DecisionTreeClassifier"
   ]
  },
  {
   "cell_type": "code",
   "execution_count": 25,
   "metadata": {},
   "outputs": [
    {
     "data": {
      "text/html": [
       "<div>\n",
       "<style scoped>\n",
       "    .dataframe tbody tr th:only-of-type {\n",
       "        vertical-align: middle;\n",
       "    }\n",
       "\n",
       "    .dataframe tbody tr th {\n",
       "        vertical-align: top;\n",
       "    }\n",
       "\n",
       "    .dataframe thead th {\n",
       "        text-align: right;\n",
       "    }\n",
       "</style>\n",
       "<table border=\"1\" class=\"dataframe\">\n",
       "  <thead>\n",
       "    <tr style=\"text-align: right;\">\n",
       "      <th></th>\n",
       "      <th>precipitationLast6Hours</th>\n",
       "      <th>visibility</th>\n",
       "      <th>barometricPressure</th>\n",
       "      <th>windDirection</th>\n",
       "      <th>relativeHumidity</th>\n",
       "      <th>heatIndex</th>\n",
       "      <th>rawMessage</th>\n",
       "      <th>timestamp</th>\n",
       "      <th>maxTemperatureLast24Hours</th>\n",
       "      <th>elevation</th>\n",
       "      <th>temperature</th>\n",
       "      <th>minTemperatureLast24Hours</th>\n",
       "      <th>precipitationLastHour</th>\n",
       "      <th>precipitationLast3Hours</th>\n",
       "      <th>dewpoint</th>\n",
       "      <th>windChill</th>\n",
       "      <th>windGust</th>\n",
       "      <th>seaLevelPressure</th>\n",
       "      <th>windSpeed</th>\n",
       "      <th>textDescription</th>\n",
       "    </tr>\n",
       "  </thead>\n",
       "  <tbody>\n",
       "    <tr>\n",
       "      <th>0</th>\n",
       "      <td>NaN</td>\n",
       "      <td>16090</td>\n",
       "      <td>102000.0</td>\n",
       "      <td>0.0</td>\n",
       "      <td>54.110084</td>\n",
       "      <td>NaN</td>\n",
       "      <td>KNYC 010551Z AUTO 00000KT 10SM CLR 11/02 A3012...</td>\n",
       "      <td>2022-05-01T05:51:00+00:00</td>\n",
       "      <td>NaN</td>\n",
       "      <td>27</td>\n",
       "      <td>10.6</td>\n",
       "      <td>NaN</td>\n",
       "      <td>NaN</td>\n",
       "      <td>NaN</td>\n",
       "      <td>1.7</td>\n",
       "      <td>NaN</td>\n",
       "      <td>NaN</td>\n",
       "      <td>101900.0</td>\n",
       "      <td>0.00</td>\n",
       "      <td>Clear</td>\n",
       "    </tr>\n",
       "    <tr>\n",
       "      <th>1</th>\n",
       "      <td>NaN</td>\n",
       "      <td>9660</td>\n",
       "      <td>101800.0</td>\n",
       "      <td>90.0</td>\n",
       "      <td>96.074595</td>\n",
       "      <td>NaN</td>\n",
       "      <td>KNYC 021033Z AUTO 09003KT 6SM -RA BR BKN015 BK...</td>\n",
       "      <td>2022-05-02T10:33:00+00:00</td>\n",
       "      <td>NaN</td>\n",
       "      <td>27</td>\n",
       "      <td>10.6</td>\n",
       "      <td>NaN</td>\n",
       "      <td>0.01</td>\n",
       "      <td>NaN</td>\n",
       "      <td>10.0</td>\n",
       "      <td>NaN</td>\n",
       "      <td>NaN</td>\n",
       "      <td>NaN</td>\n",
       "      <td>5.40</td>\n",
       "      <td>Light Rain and Fog/Mist</td>\n",
       "    </tr>\n",
       "    <tr>\n",
       "      <th>2</th>\n",
       "      <td>NaN</td>\n",
       "      <td>6440</td>\n",
       "      <td>101930.0</td>\n",
       "      <td>110.0</td>\n",
       "      <td>92.842633</td>\n",
       "      <td>NaN</td>\n",
       "      <td>KJFK 040451Z 11009KT 4SM -DZ BR OVC005 09/08 A...</td>\n",
       "      <td>2022-05-04T04:51:00+00:00</td>\n",
       "      <td>NaN</td>\n",
       "      <td>7</td>\n",
       "      <td>9.4</td>\n",
       "      <td>NaN</td>\n",
       "      <td>0.00</td>\n",
       "      <td>NaN</td>\n",
       "      <td>8.3</td>\n",
       "      <td>6.999966</td>\n",
       "      <td>NaN</td>\n",
       "      <td>101930.0</td>\n",
       "      <td>16.56</td>\n",
       "      <td>Light Drizzle and Fog/Mist</td>\n",
       "    </tr>\n",
       "    <tr>\n",
       "      <th>3</th>\n",
       "      <td>NaN</td>\n",
       "      <td>16090</td>\n",
       "      <td>101800.0</td>\n",
       "      <td>NaN</td>\n",
       "      <td>38.862553</td>\n",
       "      <td>NaN</td>\n",
       "      <td>KJFK 302051Z 19013KT 10SM CLR 15/01 A3006 RMK ...</td>\n",
       "      <td>2022-04-30T20:51:00+00:00</td>\n",
       "      <td>NaN</td>\n",
       "      <td>7</td>\n",
       "      <td>15.0</td>\n",
       "      <td>NaN</td>\n",
       "      <td>NaN</td>\n",
       "      <td>NaN</td>\n",
       "      <td>1.1</td>\n",
       "      <td>NaN</td>\n",
       "      <td>NaN</td>\n",
       "      <td>101770.0</td>\n",
       "      <td>NaN</td>\n",
       "      <td>Clear</td>\n",
       "    </tr>\n",
       "    <tr>\n",
       "      <th>4</th>\n",
       "      <td>NaN</td>\n",
       "      <td>16090</td>\n",
       "      <td>101830.0</td>\n",
       "      <td>NaN</td>\n",
       "      <td>12.164783</td>\n",
       "      <td>NaN</td>\n",
       "      <td>KEWR 301751Z 29013G17KT 10SM CLR 19/M11 A3007 ...</td>\n",
       "      <td>2022-04-30T17:51:00+00:00</td>\n",
       "      <td>NaN</td>\n",
       "      <td>9</td>\n",
       "      <td>19.4</td>\n",
       "      <td>NaN</td>\n",
       "      <td>NaN</td>\n",
       "      <td>NaN</td>\n",
       "      <td>-10.6</td>\n",
       "      <td>NaN</td>\n",
       "      <td>NaN</td>\n",
       "      <td>101830.0</td>\n",
       "      <td>NaN</td>\n",
       "      <td>Clear</td>\n",
       "    </tr>\n",
       "  </tbody>\n",
       "</table>\n",
       "</div>"
      ],
      "text/plain": [
       "   precipitationLast6Hours  visibility  barometricPressure  windDirection  \\\n",
       "0                      NaN       16090            102000.0            0.0   \n",
       "1                      NaN        9660            101800.0           90.0   \n",
       "2                      NaN        6440            101930.0          110.0   \n",
       "3                      NaN       16090            101800.0            NaN   \n",
       "4                      NaN       16090            101830.0            NaN   \n",
       "\n",
       "   relativeHumidity  heatIndex  \\\n",
       "0         54.110084        NaN   \n",
       "1         96.074595        NaN   \n",
       "2         92.842633        NaN   \n",
       "3         38.862553        NaN   \n",
       "4         12.164783        NaN   \n",
       "\n",
       "                                          rawMessage  \\\n",
       "0  KNYC 010551Z AUTO 00000KT 10SM CLR 11/02 A3012...   \n",
       "1  KNYC 021033Z AUTO 09003KT 6SM -RA BR BKN015 BK...   \n",
       "2  KJFK 040451Z 11009KT 4SM -DZ BR OVC005 09/08 A...   \n",
       "3  KJFK 302051Z 19013KT 10SM CLR 15/01 A3006 RMK ...   \n",
       "4  KEWR 301751Z 29013G17KT 10SM CLR 19/M11 A3007 ...   \n",
       "\n",
       "                   timestamp  maxTemperatureLast24Hours  elevation  \\\n",
       "0  2022-05-01T05:51:00+00:00                        NaN         27   \n",
       "1  2022-05-02T10:33:00+00:00                        NaN         27   \n",
       "2  2022-05-04T04:51:00+00:00                        NaN          7   \n",
       "3  2022-04-30T20:51:00+00:00                        NaN          7   \n",
       "4  2022-04-30T17:51:00+00:00                        NaN          9   \n",
       "\n",
       "   temperature  minTemperatureLast24Hours  precipitationLastHour  \\\n",
       "0         10.6                        NaN                    NaN   \n",
       "1         10.6                        NaN                   0.01   \n",
       "2          9.4                        NaN                   0.00   \n",
       "3         15.0                        NaN                    NaN   \n",
       "4         19.4                        NaN                    NaN   \n",
       "\n",
       "   precipitationLast3Hours  dewpoint  windChill  windGust  seaLevelPressure  \\\n",
       "0                      NaN       1.7        NaN       NaN          101900.0   \n",
       "1                      NaN      10.0        NaN       NaN               NaN   \n",
       "2                      NaN       8.3   6.999966       NaN          101930.0   \n",
       "3                      NaN       1.1        NaN       NaN          101770.0   \n",
       "4                      NaN     -10.6        NaN       NaN          101830.0   \n",
       "\n",
       "   windSpeed             textDescription  \n",
       "0       0.00                       Clear  \n",
       "1       5.40     Light Rain and Fog/Mist  \n",
       "2      16.56  Light Drizzle and Fog/Mist  \n",
       "3        NaN                       Clear  \n",
       "4        NaN                       Clear  "
      ]
     },
     "execution_count": 25,
     "metadata": {},
     "output_type": "execute_result"
    }
   ],
   "source": [
    "data = pd.read_csv(\"output copy.csv\")\n",
    "data.head()"
   ]
  },
  {
   "cell_type": "code",
   "execution_count": 26,
   "metadata": {},
   "outputs": [
    {
     "data": {
      "text/plain": [
       "Index(['precipitationLast6Hours', 'visibility', 'barometricPressure',\n",
       "       'windDirection', 'relativeHumidity', 'heatIndex', 'rawMessage',\n",
       "       'timestamp', 'maxTemperatureLast24Hours', 'elevation', 'temperature',\n",
       "       'minTemperatureLast24Hours', 'precipitationLastHour',\n",
       "       'precipitationLast3Hours', 'dewpoint', 'windChill', 'windGust',\n",
       "       'seaLevelPressure', 'windSpeed', 'textDescription'],\n",
       "      dtype='object')"
      ]
     },
     "execution_count": 26,
     "metadata": {},
     "output_type": "execute_result"
    }
   ],
   "source": [
    "data.columns"
   ]
  },
  {
   "cell_type": "code",
   "execution_count": 27,
   "metadata": {},
   "outputs": [
    {
     "data": {
      "text/plain": [
       "True"
      ]
     },
     "execution_count": 27,
     "metadata": {},
     "output_type": "execute_result"
    }
   ],
   "source": [
    "# check if there is any null values and get rid of those values to make a clean data set\n",
    "data.isnull().any().any()"
   ]
  },
  {
   "cell_type": "code",
   "execution_count": 28,
   "metadata": {},
   "outputs": [
    {
     "data": {
      "text/plain": [
       "precipitationLast6Hours      957\n",
       "visibility                     0\n",
       "barometricPressure            99\n",
       "windDirection                219\n",
       "relativeHumidity             104\n",
       "heatIndex                    983\n",
       "rawMessage                    50\n",
       "timestamp                      0\n",
       "maxTemperatureLast24Hours    997\n",
       "elevation                      0\n",
       "temperature                  100\n",
       "minTemperatureLast24Hours    997\n",
       "precipitationLastHour        780\n",
       "precipitationLast3Hours      965\n",
       "dewpoint                     102\n",
       "windChill                    937\n",
       "windGust                     950\n",
       "seaLevelPressure             214\n",
       "windSpeed                    145\n",
       "textDescription               36\n",
       "dtype: int64"
      ]
     },
     "execution_count": 28,
     "metadata": {},
     "output_type": "execute_result"
    }
   ],
   "source": [
    "data.isnull().sum() "
   ]
  },
  {
   "cell_type": "code",
   "execution_count": 29,
   "metadata": {},
   "outputs": [
    {
     "name": "stdout",
     "output_type": "stream",
     "text": [
      "<class 'pandas.core.frame.DataFrame'>\n",
      "RangeIndex: 997 entries, 0 to 996\n",
      "Data columns (total 20 columns):\n",
      " #   Column                     Non-Null Count  Dtype  \n",
      "---  ------                     --------------  -----  \n",
      " 0   precipitationLast6Hours    40 non-null     float64\n",
      " 1   visibility                 997 non-null    int64  \n",
      " 2   barometricPressure         898 non-null    float64\n",
      " 3   windDirection              778 non-null    float64\n",
      " 4   relativeHumidity           893 non-null    float64\n",
      " 5   heatIndex                  14 non-null     float64\n",
      " 6   rawMessage                 947 non-null    object \n",
      " 7   timestamp                  997 non-null    object \n",
      " 8   maxTemperatureLast24Hours  0 non-null      float64\n",
      " 9   elevation                  997 non-null    int64  \n",
      " 10  temperature                897 non-null    float64\n",
      " 11  minTemperatureLast24Hours  0 non-null      float64\n",
      " 12  precipitationLastHour      217 non-null    float64\n",
      " 13  precipitationLast3Hours    32 non-null     float64\n",
      " 14  dewpoint                   895 non-null    float64\n",
      " 15  windChill                  60 non-null     float64\n",
      " 16  windGust                   47 non-null     float64\n",
      " 17  seaLevelPressure           783 non-null    float64\n",
      " 18  windSpeed                  852 non-null    float64\n",
      " 19  textDescription            961 non-null    object \n",
      "dtypes: float64(15), int64(2), object(3)\n",
      "memory usage: 144.2+ KB\n"
     ]
    }
   ],
   "source": [
    "data.info()"
   ]
  },
  {
   "cell_type": "code",
   "execution_count": 30,
   "metadata": {},
   "outputs": [],
   "source": [
    "data.drop(['windGust', 'maxTemperatureLast24Hours', 'minTemperatureLast24Hours', 'precipitationLastHour',\n",
    "'precipitationLast3Hours', 'precipitationLast6Hours', 'windChill', 'heatIndex' ,'rawMessage'], axis=1, inplace=True)"
   ]
  },
  {
   "cell_type": "code",
   "execution_count": 31,
   "metadata": {},
   "outputs": [
    {
     "name": "stdout",
     "output_type": "stream",
     "text": [
      "<class 'pandas.core.frame.DataFrame'>\n",
      "RangeIndex: 997 entries, 0 to 996\n",
      "Data columns (total 11 columns):\n",
      " #   Column              Non-Null Count  Dtype  \n",
      "---  ------              --------------  -----  \n",
      " 0   visibility          997 non-null    int64  \n",
      " 1   barometricPressure  898 non-null    float64\n",
      " 2   windDirection       778 non-null    float64\n",
      " 3   relativeHumidity    893 non-null    float64\n",
      " 4   timestamp           997 non-null    object \n",
      " 5   elevation           997 non-null    int64  \n",
      " 6   temperature         897 non-null    float64\n",
      " 7   dewpoint            895 non-null    float64\n",
      " 8   seaLevelPressure    783 non-null    float64\n",
      " 9   windSpeed           852 non-null    float64\n",
      " 10  textDescription     961 non-null    object \n",
      "dtypes: float64(7), int64(2), object(2)\n",
      "memory usage: 78.0+ KB\n"
     ]
    }
   ],
   "source": [
    "data.info()"
   ]
  },
  {
   "cell_type": "code",
   "execution_count": 32,
   "metadata": {},
   "outputs": [],
   "source": [
    "data_clean = data.dropna()"
   ]
  },
  {
   "cell_type": "code",
   "execution_count": 33,
   "metadata": {},
   "outputs": [
    {
     "name": "stdout",
     "output_type": "stream",
     "text": [
      "<class 'pandas.core.frame.DataFrame'>\n",
      "Int64Index: 641 entries, 0 to 996\n",
      "Data columns (total 11 columns):\n",
      " #   Column              Non-Null Count  Dtype  \n",
      "---  ------              --------------  -----  \n",
      " 0   visibility          641 non-null    int64  \n",
      " 1   barometricPressure  641 non-null    float64\n",
      " 2   windDirection       641 non-null    float64\n",
      " 3   relativeHumidity    641 non-null    float64\n",
      " 4   timestamp           641 non-null    object \n",
      " 5   elevation           641 non-null    int64  \n",
      " 6   temperature         641 non-null    float64\n",
      " 7   dewpoint            641 non-null    float64\n",
      " 8   seaLevelPressure    641 non-null    float64\n",
      " 9   windSpeed           641 non-null    float64\n",
      " 10  textDescription     641 non-null    object \n",
      "dtypes: float64(7), int64(2), object(2)\n",
      "memory usage: 55.1+ KB\n"
     ]
    }
   ],
   "source": [
    "data_clean.info()"
   ]
  },
  {
   "cell_type": "code",
   "execution_count": 34,
   "metadata": {},
   "outputs": [
    {
     "data": {
      "text/html": [
       "<div>\n",
       "<style scoped>\n",
       "    .dataframe tbody tr th:only-of-type {\n",
       "        vertical-align: middle;\n",
       "    }\n",
       "\n",
       "    .dataframe tbody tr th {\n",
       "        vertical-align: top;\n",
       "    }\n",
       "\n",
       "    .dataframe thead th {\n",
       "        text-align: right;\n",
       "    }\n",
       "</style>\n",
       "<table border=\"1\" class=\"dataframe\">\n",
       "  <thead>\n",
       "    <tr style=\"text-align: right;\">\n",
       "      <th></th>\n",
       "      <th>visibility</th>\n",
       "      <th>barometricPressure</th>\n",
       "      <th>windDirection</th>\n",
       "      <th>relativeHumidity</th>\n",
       "      <th>timestamp</th>\n",
       "      <th>elevation</th>\n",
       "      <th>temperature</th>\n",
       "      <th>dewpoint</th>\n",
       "      <th>seaLevelPressure</th>\n",
       "      <th>windSpeed</th>\n",
       "      <th>textDescription</th>\n",
       "    </tr>\n",
       "  </thead>\n",
       "  <tbody>\n",
       "    <tr>\n",
       "      <th>0</th>\n",
       "      <td>16090</td>\n",
       "      <td>102000.0</td>\n",
       "      <td>0.0</td>\n",
       "      <td>54.110084</td>\n",
       "      <td>2022-05-01T05:51:00+00:00</td>\n",
       "      <td>27</td>\n",
       "      <td>10.6</td>\n",
       "      <td>1.7</td>\n",
       "      <td>101900.0</td>\n",
       "      <td>0.00</td>\n",
       "      <td>Clear</td>\n",
       "    </tr>\n",
       "    <tr>\n",
       "      <th>2</th>\n",
       "      <td>6440</td>\n",
       "      <td>101930.0</td>\n",
       "      <td>110.0</td>\n",
       "      <td>92.842633</td>\n",
       "      <td>2022-05-04T04:51:00+00:00</td>\n",
       "      <td>7</td>\n",
       "      <td>9.4</td>\n",
       "      <td>8.3</td>\n",
       "      <td>101930.0</td>\n",
       "      <td>16.56</td>\n",
       "      <td>Light Drizzle and Fog/Mist</td>\n",
       "    </tr>\n",
       "    <tr>\n",
       "      <th>6</th>\n",
       "      <td>16090</td>\n",
       "      <td>101590.0</td>\n",
       "      <td>0.0</td>\n",
       "      <td>66.902625</td>\n",
       "      <td>2022-05-06T08:51:00+00:00</td>\n",
       "      <td>27</td>\n",
       "      <td>15.0</td>\n",
       "      <td>8.9</td>\n",
       "      <td>101480.0</td>\n",
       "      <td>0.00</td>\n",
       "      <td>Mostly Clear</td>\n",
       "    </tr>\n",
       "    <tr>\n",
       "      <th>7</th>\n",
       "      <td>16090</td>\n",
       "      <td>102000.0</td>\n",
       "      <td>0.0</td>\n",
       "      <td>33.788524</td>\n",
       "      <td>2022-05-01T03:51:00+00:00</td>\n",
       "      <td>27</td>\n",
       "      <td>12.2</td>\n",
       "      <td>-3.3</td>\n",
       "      <td>101910.0</td>\n",
       "      <td>0.00</td>\n",
       "      <td>Clear</td>\n",
       "    </tr>\n",
       "    <tr>\n",
       "      <th>8</th>\n",
       "      <td>12870</td>\n",
       "      <td>101800.0</td>\n",
       "      <td>70.0</td>\n",
       "      <td>89.954433</td>\n",
       "      <td>2022-05-02T14:51:00+00:00</td>\n",
       "      <td>27</td>\n",
       "      <td>12.2</td>\n",
       "      <td>10.6</td>\n",
       "      <td>101700.0</td>\n",
       "      <td>12.96</td>\n",
       "      <td>Cloudy</td>\n",
       "    </tr>\n",
       "  </tbody>\n",
       "</table>\n",
       "</div>"
      ],
      "text/plain": [
       "   visibility  barometricPressure  windDirection  relativeHumidity  \\\n",
       "0       16090            102000.0            0.0         54.110084   \n",
       "2        6440            101930.0          110.0         92.842633   \n",
       "6       16090            101590.0            0.0         66.902625   \n",
       "7       16090            102000.0            0.0         33.788524   \n",
       "8       12870            101800.0           70.0         89.954433   \n",
       "\n",
       "                   timestamp  elevation  temperature  dewpoint  \\\n",
       "0  2022-05-01T05:51:00+00:00         27         10.6       1.7   \n",
       "2  2022-05-04T04:51:00+00:00          7          9.4       8.3   \n",
       "6  2022-05-06T08:51:00+00:00         27         15.0       8.9   \n",
       "7  2022-05-01T03:51:00+00:00         27         12.2      -3.3   \n",
       "8  2022-05-02T14:51:00+00:00         27         12.2      10.6   \n",
       "\n",
       "   seaLevelPressure  windSpeed             textDescription  \n",
       "0          101900.0       0.00                       Clear  \n",
       "2          101930.0      16.56  Light Drizzle and Fog/Mist  \n",
       "6          101480.0       0.00                Mostly Clear  \n",
       "7          101910.0       0.00                       Clear  \n",
       "8          101700.0      12.96                      Cloudy  "
      ]
     },
     "execution_count": 34,
     "metadata": {},
     "output_type": "execute_result"
    }
   ],
   "source": [
    "data_clean.head()"
   ]
  },
  {
   "cell_type": "code",
   "execution_count": 35,
   "metadata": {},
   "outputs": [],
   "source": [
    "import numpy as np\n",
    "import matplotlib.pyplot as plt \n",
    "import pandas as pd"
   ]
  },
  {
   "cell_type": "code",
   "execution_count": 36,
   "metadata": {},
   "outputs": [
    {
     "data": {
      "text/plain": [
       "Index(['visibility', 'barometricPressure', 'windDirection', 'relativeHumidity',\n",
       "       'timestamp', 'elevation', 'temperature', 'dewpoint', 'seaLevelPressure',\n",
       "       'windSpeed', 'textDescription'],\n",
       "      dtype='object')"
      ]
     },
     "execution_count": 36,
     "metadata": {},
     "output_type": "execute_result"
    }
   ],
   "source": [
    "data_clean.columns"
   ]
  },
  {
   "cell_type": "code",
   "execution_count": 37,
   "metadata": {},
   "outputs": [
    {
     "name": "stdout",
     "output_type": "stream",
     "text": [
      "<pandas.core.groupby.generic.DataFrameGroupBy object at 0x00B0F868>\n"
     ]
    }
   ],
   "source": [
    "# description = data['textDescription'].tolist()\n",
    "description = data.groupby('textDescription')\n",
    "print(description)"
   ]
  },
  {
   "cell_type": "code",
   "execution_count": 39,
   "metadata": {},
   "outputs": [],
   "source": [
    "# Cloudy\n",
    "# Mostly Cloudy\n",
    "# Partly Cloudy\n",
    "\n",
    "# Clear \n",
    "# Mostly Clear\n",
    "# Mostly Clear and Windy\n",
    "\n",
    "# Rain\n",
    "# Heavy Rain\n",
    "# Light Rain\n",
    "# Light Rain and Fog/Mist\n",
    "# Light Drizzle\n",
    "\n",
    "# -----visibility-----\n",
    "# Fog/Mist  \n",
    "# Light Drizzle and Fog/Mist\n",
    "\n",
    "\n",
    "# Haze"
   ]
  },
  {
   "cell_type": "code",
   "execution_count": 40,
   "metadata": {},
   "outputs": [],
   "source": [
    "# decision of cloudy or clear and rain\n",
    "# independent variable --> feature_cols =[]\n",
    "feature_cols =['visibility', 'barometricPressure', 'windDirection', 'elevation', 'temperature', 'dewpoint', 'seaLevelPressure',\n",
    "       'windSpeed']\n",
    "\n",
    "       # 'visibility', 'barometricPressure', 'windDirection', 'relativeHumidity',\n",
    "       # 'timestamp', 'elevation', 'temperature', 'dewpoint', 'seaLevelPressure',\n",
    "       # 'windSpeed', 'textDescription'"
   ]
  },
  {
   "cell_type": "code",
   "execution_count": 41,
   "metadata": {},
   "outputs": [],
   "source": [
    "X = data_clean[feature_cols].copy()"
   ]
  },
  {
   "cell_type": "code",
   "execution_count": 42,
   "metadata": {},
   "outputs": [
    {
     "data": {
      "text/plain": [
       "Index(['visibility', 'barometricPressure', 'windDirection', 'elevation',\n",
       "       'temperature', 'dewpoint', 'seaLevelPressure', 'windSpeed'],\n",
       "      dtype='object')"
      ]
     },
     "execution_count": 42,
     "metadata": {},
     "output_type": "execute_result"
    }
   ],
   "source": [
    "X.columns\n"
   ]
  },
  {
   "cell_type": "code",
   "execution_count": 43,
   "metadata": {},
   "outputs": [],
   "source": [
    "# assigning the values 0 or 1 and adding a new column 'high humidity label'.\n",
    "#  We are basically classifying the data into two categories ( binary problem ) by \n",
    "#  setting a desired value ( 24.99 , in this case ) to be the threshold and anything above is \n",
    "# high ( 1 ) and anything below is low ( 0 )."
   ]
  },
  {
   "cell_type": "code",
   "execution_count": 44,
   "metadata": {},
   "outputs": [
    {
     "name": "stdout",
     "output_type": "stream",
     "text": [
      "0      1\n",
      "2      1\n",
      "6      1\n",
      "7      1\n",
      "8      1\n",
      "      ..\n",
      "991    0\n",
      "993    1\n",
      "994    1\n",
      "995    1\n",
      "996    1\n",
      "Name: humidity_label, Length: 641, dtype: int32\n"
     ]
    },
    {
     "name": "stderr",
     "output_type": "stream",
     "text": [
      "C:\\Users\\lingz\\AppData\\Local\\Temp/ipykernel_22324/335924011.py:1: SettingWithCopyWarning: \n",
      "A value is trying to be set on a copy of a slice from a DataFrame.\n",
      "Try using .loc[row_indexer,col_indexer] = value instead\n",
      "\n",
      "See the caveats in the documentation: https://pandas.pydata.org/pandas-docs/stable/user_guide/indexing.html#returning-a-view-versus-a-copy\n",
      "  data_clean['humidity_label'] = (data_clean['relativeHumidity'] > 24.99) * 1\n"
     ]
    }
   ],
   "source": [
    "data_clean['humidity_label'] = (data_clean['relativeHumidity'] > 24.99) * 1\n",
    "print(data_clean['humidity_label'])"
   ]
  },
  {
   "cell_type": "code",
   "execution_count": 45,
   "metadata": {},
   "outputs": [],
   "source": [
    "y = data_clean[['humidity_label']].copy()"
   ]
  },
  {
   "cell_type": "code",
   "execution_count": 46,
   "metadata": {},
   "outputs": [
    {
     "data": {
      "text/plain": [
       "0    54.110084\n",
       "2    92.842633\n",
       "6    66.902625\n",
       "7    33.788524\n",
       "8    89.954433\n",
       "Name: relativeHumidity, dtype: float64"
      ]
     },
     "execution_count": 46,
     "metadata": {},
     "output_type": "execute_result"
    }
   ],
   "source": [
    "data_clean['relativeHumidity'].head()"
   ]
  },
  {
   "cell_type": "code",
   "execution_count": 47,
   "metadata": {},
   "outputs": [
    {
     "data": {
      "text/html": [
       "<div>\n",
       "<style scoped>\n",
       "    .dataframe tbody tr th:only-of-type {\n",
       "        vertical-align: middle;\n",
       "    }\n",
       "\n",
       "    .dataframe tbody tr th {\n",
       "        vertical-align: top;\n",
       "    }\n",
       "\n",
       "    .dataframe thead th {\n",
       "        text-align: right;\n",
       "    }\n",
       "</style>\n",
       "<table border=\"1\" class=\"dataframe\">\n",
       "  <thead>\n",
       "    <tr style=\"text-align: right;\">\n",
       "      <th></th>\n",
       "      <th>humidity_label</th>\n",
       "    </tr>\n",
       "  </thead>\n",
       "  <tbody>\n",
       "    <tr>\n",
       "      <th>0</th>\n",
       "      <td>1</td>\n",
       "    </tr>\n",
       "    <tr>\n",
       "      <th>2</th>\n",
       "      <td>1</td>\n",
       "    </tr>\n",
       "    <tr>\n",
       "      <th>6</th>\n",
       "      <td>1</td>\n",
       "    </tr>\n",
       "    <tr>\n",
       "      <th>7</th>\n",
       "      <td>1</td>\n",
       "    </tr>\n",
       "    <tr>\n",
       "      <th>8</th>\n",
       "      <td>1</td>\n",
       "    </tr>\n",
       "  </tbody>\n",
       "</table>\n",
       "</div>"
      ],
      "text/plain": [
       "   humidity_label\n",
       "0               1\n",
       "2               1\n",
       "6               1\n",
       "7               1\n",
       "8               1"
      ]
     },
     "execution_count": 47,
     "metadata": {},
     "output_type": "execute_result"
    }
   ],
   "source": [
    "y.head()"
   ]
  },
  {
   "cell_type": "code",
   "execution_count": 48,
   "metadata": {},
   "outputs": [
    {
     "data": {
      "text/plain": [
       "Index(['visibility', 'barometricPressure', 'windDirection', 'elevation',\n",
       "       'temperature', 'dewpoint', 'seaLevelPressure', 'windSpeed'],\n",
       "      dtype='object')"
      ]
     },
     "execution_count": 48,
     "metadata": {},
     "output_type": "execute_result"
    }
   ],
   "source": [
    "X.columns"
   ]
  },
  {
   "cell_type": "code",
   "execution_count": 49,
   "metadata": {},
   "outputs": [
    {
     "data": {
      "text/plain": [
       "Index(['humidity_label'], dtype='object')"
      ]
     },
     "execution_count": 49,
     "metadata": {},
     "output_type": "execute_result"
    }
   ],
   "source": [
    "y.columns"
   ]
  },
  {
   "cell_type": "code",
   "execution_count": 50,
   "metadata": {},
   "outputs": [],
   "source": [
    "# output is temputure, raining or cloudy\n",
    "# rain or no rain\n",
    "# then prediction accuracy\n",
    "\n",
    "# Cloudy\n",
    "# Clear \n",
    "# Mostly Cloudy\n",
    "# Mostly Clear\n",
    "# Light Rain\n",
    "# Partly Cloudy\n",
    "# Fog/Mist\n",
    "# Light Rain and Fog/Mist\n",
    "# Light Drizzle and Fog/Mist\n",
    "# Light Drizzle\n",
    "# Mostly Clear and Windy\n",
    "# Rain\n",
    "# Heavy Rain\n",
    "# Haze"
   ]
  },
  {
   "cell_type": "code",
   "execution_count": 51,
   "metadata": {},
   "outputs": [],
   "source": [
    "X_train, X_test, y_train, y_test = train_test_split(X, y, test_size=0.33, random_state=324)"
   ]
  },
  {
   "cell_type": "code",
   "execution_count": 52,
   "metadata": {},
   "outputs": [
    {
     "data": {
      "text/html": [
       "<div>\n",
       "<style scoped>\n",
       "    .dataframe tbody tr th:only-of-type {\n",
       "        vertical-align: middle;\n",
       "    }\n",
       "\n",
       "    .dataframe tbody tr th {\n",
       "        vertical-align: top;\n",
       "    }\n",
       "\n",
       "    .dataframe thead th {\n",
       "        text-align: right;\n",
       "    }\n",
       "</style>\n",
       "<table border=\"1\" class=\"dataframe\">\n",
       "  <thead>\n",
       "    <tr style=\"text-align: right;\">\n",
       "      <th></th>\n",
       "      <th>humidity_label</th>\n",
       "    </tr>\n",
       "  </thead>\n",
       "  <tbody>\n",
       "    <tr>\n",
       "      <th>count</th>\n",
       "      <td>429.000000</td>\n",
       "    </tr>\n",
       "    <tr>\n",
       "      <th>mean</th>\n",
       "      <td>0.876457</td>\n",
       "    </tr>\n",
       "    <tr>\n",
       "      <th>std</th>\n",
       "      <td>0.329444</td>\n",
       "    </tr>\n",
       "    <tr>\n",
       "      <th>min</th>\n",
       "      <td>0.000000</td>\n",
       "    </tr>\n",
       "    <tr>\n",
       "      <th>25%</th>\n",
       "      <td>1.000000</td>\n",
       "    </tr>\n",
       "    <tr>\n",
       "      <th>50%</th>\n",
       "      <td>1.000000</td>\n",
       "    </tr>\n",
       "    <tr>\n",
       "      <th>75%</th>\n",
       "      <td>1.000000</td>\n",
       "    </tr>\n",
       "    <tr>\n",
       "      <th>max</th>\n",
       "      <td>1.000000</td>\n",
       "    </tr>\n",
       "  </tbody>\n",
       "</table>\n",
       "</div>"
      ],
      "text/plain": [
       "       humidity_label\n",
       "count      429.000000\n",
       "mean         0.876457\n",
       "std          0.329444\n",
       "min          0.000000\n",
       "25%          1.000000\n",
       "50%          1.000000\n",
       "75%          1.000000\n",
       "max          1.000000"
      ]
     },
     "execution_count": 52,
     "metadata": {},
     "output_type": "execute_result"
    }
   ],
   "source": [
    "# type(X_train)\n",
    "# type(X_test)\n",
    "# type(y_train)\n",
    "# type(y_test)\n",
    "# X_train.head()\n",
    "y_train.describe()"
   ]
  },
  {
   "cell_type": "code",
   "execution_count": 53,
   "metadata": {},
   "outputs": [
    {
     "data": {
      "text/plain": [
       "DecisionTreeClassifier(max_leaf_nodes=10, random_state=0)"
      ]
     },
     "execution_count": 53,
     "metadata": {},
     "output_type": "execute_result"
    }
   ],
   "source": [
    "humidity_classifier = DecisionTreeClassifier(max_leaf_nodes=10, random_state=0)\n",
    "humidity_classifier.fit(X_train, y_train)"
   ]
  },
  {
   "cell_type": "code",
   "execution_count": 54,
   "metadata": {},
   "outputs": [
    {
     "data": {
      "text/plain": [
       "sklearn.tree._classes.DecisionTreeClassifier"
      ]
     },
     "execution_count": 54,
     "metadata": {},
     "output_type": "execute_result"
    }
   ],
   "source": [
    "type(humidity_classifier)"
   ]
  },
  {
   "cell_type": "code",
   "execution_count": 55,
   "metadata": {},
   "outputs": [],
   "source": [
    "from sklearn import tree\n",
    "clf = humidity_classifier.fit(X_train, y_train)\n",
    "clf = tree.DecisionTreeClassifier()\n",
    "clf = clf.fit(X, y)"
   ]
  },
  {
   "cell_type": "code",
   "execution_count": 56,
   "metadata": {},
   "outputs": [
    {
     "data": {
      "text/plain": [
       "[Text(0.5928571428571429, 0.9444444444444444, 'X[5] <= -9.7\\ngini = 0.199\\nsamples = 641\\nvalue = [72, 569]'),\n",
       " Text(0.5357142857142857, 0.8333333333333334, 'gini = 0.0\\nsamples = 43\\nvalue = [43, 0]'),\n",
       " Text(0.65, 0.8333333333333334, 'X[5] <= -1.95\\ngini = 0.092\\nsamples = 598\\nvalue = [29, 569]'),\n",
       " Text(0.4142857142857143, 0.7222222222222222, 'X[4] <= 10.85\\ngini = 0.47\\nsamples = 74\\nvalue = [28, 46]'),\n",
       " Text(0.22857142857142856, 0.6111111111111112, 'X[7] <= 23.22\\ngini = 0.108\\nsamples = 35\\nvalue = [2, 33]'),\n",
       " Text(0.17142857142857143, 0.5, 'X[6] <= 101985.0\\ngini = 0.057\\nsamples = 34\\nvalue = [1, 33]'),\n",
       " Text(0.11428571428571428, 0.3888888888888889, 'X[5] <= -8.3\\ngini = 0.444\\nsamples = 3\\nvalue = [1, 2]'),\n",
       " Text(0.05714285714285714, 0.2777777777777778, 'gini = 0.0\\nsamples = 1\\nvalue = [1, 0]'),\n",
       " Text(0.17142857142857143, 0.2777777777777778, 'gini = 0.0\\nsamples = 2\\nvalue = [0, 2]'),\n",
       " Text(0.22857142857142856, 0.3888888888888889, 'gini = 0.0\\nsamples = 31\\nvalue = [0, 31]'),\n",
       " Text(0.2857142857142857, 0.5, 'gini = 0.0\\nsamples = 1\\nvalue = [1, 0]'),\n",
       " Text(0.6, 0.6111111111111112, 'X[4] <= 17.5\\ngini = 0.444\\nsamples = 39\\nvalue = [26, 13]'),\n",
       " Text(0.5428571428571428, 0.5, 'X[5] <= -4.7\\ngini = 0.499\\nsamples = 27\\nvalue = [14, 13]'),\n",
       " Text(0.4, 0.3888888888888889, 'X[6] <= 101995.0\\ngini = 0.36\\nsamples = 17\\nvalue = [13, 4]'),\n",
       " Text(0.2857142857142857, 0.2777777777777778, 'X[1] <= 101780.0\\ngini = 0.18\\nsamples = 10\\nvalue = [9, 1]'),\n",
       " Text(0.22857142857142856, 0.16666666666666666, 'X[2] <= 175.0\\ngini = 0.5\\nsamples = 2\\nvalue = [1, 1]'),\n",
       " Text(0.17142857142857143, 0.05555555555555555, 'gini = 0.0\\nsamples = 1\\nvalue = [1, 0]'),\n",
       " Text(0.2857142857142857, 0.05555555555555555, 'gini = 0.0\\nsamples = 1\\nvalue = [0, 1]'),\n",
       " Text(0.34285714285714286, 0.16666666666666666, 'gini = 0.0\\nsamples = 8\\nvalue = [8, 0]'),\n",
       " Text(0.5142857142857142, 0.2777777777777778, 'X[5] <= -7.75\\ngini = 0.49\\nsamples = 7\\nvalue = [4, 3]'),\n",
       " Text(0.45714285714285713, 0.16666666666666666, 'gini = 0.0\\nsamples = 3\\nvalue = [3, 0]'),\n",
       " Text(0.5714285714285714, 0.16666666666666666, 'X[2] <= 340.0\\ngini = 0.375\\nsamples = 4\\nvalue = [1, 3]'),\n",
       " Text(0.5142857142857142, 0.05555555555555555, 'gini = 0.0\\nsamples = 3\\nvalue = [0, 3]'),\n",
       " Text(0.6285714285714286, 0.05555555555555555, 'gini = 0.0\\nsamples = 1\\nvalue = [1, 0]'),\n",
       " Text(0.6857142857142857, 0.3888888888888889, 'X[7] <= 13.86\\ngini = 0.18\\nsamples = 10\\nvalue = [1, 9]'),\n",
       " Text(0.6285714285714286, 0.2777777777777778, 'gini = 0.0\\nsamples = 9\\nvalue = [0, 9]'),\n",
       " Text(0.7428571428571429, 0.2777777777777778, 'gini = 0.0\\nsamples = 1\\nvalue = [1, 0]'),\n",
       " Text(0.6571428571428571, 0.5, 'gini = 0.0\\nsamples = 12\\nvalue = [12, 0]'),\n",
       " Text(0.8857142857142857, 0.7222222222222222, 'X[5] <= -1.4\\ngini = 0.004\\nsamples = 524\\nvalue = [1, 523]'),\n",
       " Text(0.8285714285714286, 0.6111111111111112, 'X[3] <= 6.0\\ngini = 0.219\\nsamples = 8\\nvalue = [1, 7]'),\n",
       " Text(0.7714285714285715, 0.5, 'gini = 0.0\\nsamples = 1\\nvalue = [1, 0]'),\n",
       " Text(0.8857142857142857, 0.5, 'gini = 0.0\\nsamples = 7\\nvalue = [0, 7]'),\n",
       " Text(0.9428571428571428, 0.6111111111111112, 'gini = 0.0\\nsamples = 516\\nvalue = [0, 516]')]"
      ]
     },
     "execution_count": 56,
     "metadata": {},
     "output_type": "execute_result"
    },
    {
     "data": {
      "image/png": "[encoded data removed]",
      "text/plain": [
       "<Figure size 432x288 with 1 Axes>"
      ]
     },
     "metadata": {
      "needs_background": "light"
     },
     "output_type": "display_data"
    }
   ],
   "source": [
    "tree.plot_tree(clf)"
   ]
  },
  {
   "cell_type": "code",
   "execution_count": 57,
   "metadata": {},
   "outputs": [
    {
     "data": {
      "text/plain": [
       "[Text(0.5928571428571429, 0.9444444444444444, 'X[5] <= -9.7\\ngini = 0.199\\nsamples = 641\\nvalue = [72, 569]'),\n",
       " Text(0.5357142857142857, 0.8333333333333334, 'gini = 0.0\\nsamples = 43\\nvalue = [43, 0]'),\n",
       " Text(0.65, 0.8333333333333334, 'X[5] <= -1.95\\ngini = 0.092\\nsamples = 598\\nvalue = [29, 569]'),\n",
       " Text(0.4142857142857143, 0.7222222222222222, 'X[4] <= 10.85\\ngini = 0.47\\nsamples = 74\\nvalue = [28, 46]'),\n",
       " Text(0.22857142857142856, 0.6111111111111112, 'X[7] <= 23.22\\ngini = 0.108\\nsamples = 35\\nvalue = [2, 33]'),\n",
       " Text(0.17142857142857143, 0.5, 'X[6] <= 101985.0\\ngini = 0.057\\nsamples = 34\\nvalue = [1, 33]'),\n",
       " Text(0.11428571428571428, 0.3888888888888889, 'X[5] <= -8.3\\ngini = 0.444\\nsamples = 3\\nvalue = [1, 2]'),\n",
       " Text(0.05714285714285714, 0.2777777777777778, 'gini = 0.0\\nsamples = 1\\nvalue = [1, 0]'),\n",
       " Text(0.17142857142857143, 0.2777777777777778, 'gini = 0.0\\nsamples = 2\\nvalue = [0, 2]'),\n",
       " Text(0.22857142857142856, 0.3888888888888889, 'gini = 0.0\\nsamples = 31\\nvalue = [0, 31]'),\n",
       " Text(0.2857142857142857, 0.5, 'gini = 0.0\\nsamples = 1\\nvalue = [1, 0]'),\n",
       " Text(0.6, 0.6111111111111112, 'X[4] <= 17.5\\ngini = 0.444\\nsamples = 39\\nvalue = [26, 13]'),\n",
       " Text(0.5428571428571428, 0.5, 'X[5] <= -4.7\\ngini = 0.499\\nsamples = 27\\nvalue = [14, 13]'),\n",
       " Text(0.4, 0.3888888888888889, 'X[6] <= 101995.0\\ngini = 0.36\\nsamples = 17\\nvalue = [13, 4]'),\n",
       " Text(0.2857142857142857, 0.2777777777777778, 'X[1] <= 101780.0\\ngini = 0.18\\nsamples = 10\\nvalue = [9, 1]'),\n",
       " Text(0.22857142857142856, 0.16666666666666666, 'X[2] <= 175.0\\ngini = 0.5\\nsamples = 2\\nvalue = [1, 1]'),\n",
       " Text(0.17142857142857143, 0.05555555555555555, 'gini = 0.0\\nsamples = 1\\nvalue = [1, 0]'),\n",
       " Text(0.2857142857142857, 0.05555555555555555, 'gini = 0.0\\nsamples = 1\\nvalue = [0, 1]'),\n",
       " Text(0.34285714285714286, 0.16666666666666666, 'gini = 0.0\\nsamples = 8\\nvalue = [8, 0]'),\n",
       " Text(0.5142857142857142, 0.2777777777777778, 'X[5] <= -7.75\\ngini = 0.49\\nsamples = 7\\nvalue = [4, 3]'),\n",
       " Text(0.45714285714285713, 0.16666666666666666, 'gini = 0.0\\nsamples = 3\\nvalue = [3, 0]'),\n",
       " Text(0.5714285714285714, 0.16666666666666666, 'X[2] <= 340.0\\ngini = 0.375\\nsamples = 4\\nvalue = [1, 3]'),\n",
       " Text(0.5142857142857142, 0.05555555555555555, 'gini = 0.0\\nsamples = 3\\nvalue = [0, 3]'),\n",
       " Text(0.6285714285714286, 0.05555555555555555, 'gini = 0.0\\nsamples = 1\\nvalue = [1, 0]'),\n",
       " Text(0.6857142857142857, 0.3888888888888889, 'X[7] <= 13.86\\ngini = 0.18\\nsamples = 10\\nvalue = [1, 9]'),\n",
       " Text(0.6285714285714286, 0.2777777777777778, 'gini = 0.0\\nsamples = 9\\nvalue = [0, 9]'),\n",
       " Text(0.7428571428571429, 0.2777777777777778, 'gini = 0.0\\nsamples = 1\\nvalue = [1, 0]'),\n",
       " Text(0.6571428571428571, 0.5, 'gini = 0.0\\nsamples = 12\\nvalue = [12, 0]'),\n",
       " Text(0.8857142857142857, 0.7222222222222222, 'X[5] <= -1.4\\ngini = 0.004\\nsamples = 524\\nvalue = [1, 523]'),\n",
       " Text(0.8285714285714286, 0.6111111111111112, 'X[3] <= 6.0\\ngini = 0.219\\nsamples = 8\\nvalue = [1, 7]'),\n",
       " Text(0.7714285714285715, 0.5, 'gini = 0.0\\nsamples = 1\\nvalue = [1, 0]'),\n",
       " Text(0.8857142857142857, 0.5, 'gini = 0.0\\nsamples = 7\\nvalue = [0, 7]'),\n",
       " Text(0.9428571428571428, 0.6111111111111112, 'gini = 0.0\\nsamples = 516\\nvalue = [0, 516]')]"
      ]
     },
     "execution_count": 57,
     "metadata": {},
     "output_type": "execute_result"
    },
    {
     "data": {
      "image/png": "[encoded data removed]",
      "text/plain": [
       "<Figure size 432x288 with 1 Axes>"
      ]
     },
     "metadata": {
      "needs_background": "light"
     },
     "output_type": "display_data"
    }
   ],
   "source": [
    "tree.plot_tree(clf)"
   ]
  },
  {
   "cell_type": "code",
   "execution_count": 68,
   "metadata": {},
   "outputs": [
    {
     "data": {
      "image/png": "[encoded data removed]",
      "text/plain": [
       "<Figure size 864x864 with 1 Axes>"
      ]
     },
     "metadata": {
      "needs_background": "light"
     },
     "output_type": "display_data"
    }
   ],
   "source": [
    "# from sklearn.datasets import load_iris\n",
    "from sklearn import tree\n",
    "# iris = load_iris()\n",
    "clf = humidity_classifier.fit(X_train, y_train)\n",
    "clf = tree.DecisionTreeClassifier()\n",
    "clf = clf.fit(X, y)\n",
    "\n",
    "# plot tree\n",
    "plt.figure(figsize=(12,12))  # set plot size (denoted in inches)\n",
    "tree.plot_tree(clf, fontsize=10)\n",
    "plt.show()"
   ]
  },
  {
   "cell_type": "code",
   "execution_count": 67,
   "metadata": {},
   "outputs": [
    {
     "data": {
      "image/png": "[encoded data removed]",
      "text/plain": [
       "<Figure size 864x864 with 1 Axes>"
      ]
     },
     "metadata": {
      "needs_background": "light"
     },
     "output_type": "display_data"
    }
   ],
   "source": [
    "from sklearn.datasets import load_iris\n",
    "from sklearn import tree\n",
    "import matplotlib.pyplot as plt\n",
    "# iris = load_iris(return_X_y=True)\n",
    "clf = humidity_classifier.fit(X_train, y_train)\n",
    "clf = tree.DecisionTreeClassifier(max_depth=4)\n",
    "clf = clf.fit(X, y)\n",
    "\n",
    "# plot tree\n",
    "plt.figure(figsize=(12,12))  # set plot size (denoted in inches)\n",
    "tree.plot_tree(clf, fontsize=10)\n",
    "plt.show()"
   ]
  },
  {
   "cell_type": "code",
   "execution_count": 62,
   "metadata": {},
   "outputs": [
    {
     "data": {
      "image/png": "[encoded data removed]",
      "text/plain": [
       "<Figure size 864x864 with 1 Axes>"
      ]
     },
     "metadata": {
      "needs_background": "light"
     },
     "output_type": "display_data"
    }
   ],
   "source": [
    "# save plot\n",
    "plt.figure(figsize=(12,12))\n",
    "tree.plot_tree(clf, fontsize=6)\n",
    "plt.savefig('tree_high_dpi', dpi=100)"
   ]
  },
  {
   "cell_type": "code",
   "execution_count": null,
   "metadata": {},
   "outputs": [],
   "source": [
    "\n"
   ]
  },
  {
   "cell_type": "code",
   "execution_count": 63,
   "metadata": {},
   "outputs": [],
   "source": [
    "humidity_predictions = humidity_classifier.predict(X_test)"
   ]
  },
  {
   "cell_type": "code",
   "execution_count": 64,
   "metadata": {},
   "outputs": [
    {
     "name": "stdout",
     "output_type": "stream",
     "text": [
      "[1 1 1 1 1 1 1 1 1 1 1 1 1 1 1 1 1 1 1 0 1 1 1 1 1 0 1 1 1 1 1 1 0 1 1 1 1\n",
      " 1 1 1 1 1 1 0 1 1 1 1 1 1 1 1 1 1 1 1 1 1 1 1 1 1 1 1 1 1 1 1 1 0 1 1 1 1\n",
      " 1 1 1 1 1 0 1 0 1 1 1 1 1 1 1 1 1 1 1 1 1 1 1 1 1 1 1 1 1 1 1 1 1 1 0 1 1\n",
      " 1 1 1 1 1 0 1 1 1 1 0 1 1 1 1 1 0 1 1 1 1 1 1 1 1 0 1 1 1 1 1 1 1 1 1 1 1\n",
      " 1 1 0 1 1 1 1 1 1 1 1 1 1 1 1 1 1 1 1 1 1 1 0 1 1 1 1 1 1 1 1 1 1 1 1 1 1\n",
      " 1 1 0 1 1 1 1 1 1 0 1 1 1 1 1 1 1 1 1 1 1 1 1 1 1 1 0]\n"
     ]
    }
   ],
   "source": [
    "print(humidity_predictions)"
   ]
  },
  {
   "cell_type": "code",
   "execution_count": 65,
   "metadata": {},
   "outputs": [
    {
     "data": {
      "text/plain": [
       "400    1\n",
       "663    1\n",
       "112    1\n",
       "289    1\n",
       "996    1\n",
       "296    1\n",
       "89     1\n",
       "891    1\n",
       "298    1\n",
       "351    1\n",
       "Name: humidity_label, dtype: int32"
      ]
     },
     "execution_count": 65,
     "metadata": {},
     "output_type": "execute_result"
    }
   ],
   "source": [
    "y_test['humidity_label'][:10]"
   ]
  },
  {
   "cell_type": "code",
   "execution_count": 66,
   "metadata": {},
   "outputs": [
    {
     "data": {
      "text/plain": [
       "0.9716981132075472"
      ]
     },
     "execution_count": 66,
     "metadata": {},
     "output_type": "execute_result"
    }
   ],
   "source": [
    "accuracy_score(y_true = y_test, y_pred = humidity_predictions)"
   ]
  },
  {
   "cell_type": "code",
   "execution_count": 76,
   "metadata": {},
   "outputs": [],
   "source": [
    "# from sklearn.metrics import mean_squared_error\n",
    "# mean_squared_error(y_test, y_pred = predictions)"
   ]
  },
  {
   "cell_type": "code",
   "execution_count": null,
   "metadata": {},
   "outputs": [],
   "source": [
    "# create a model to predit the humidity, the prove of accuracy is 97%\n",
    "# we can use this predit the humidity is higher that 24.99 or not"
   ]
  }
 ],
 "metadata": {
  "interpreter": {
   "hash": "b4930a1845449b2f6cde7a8f53be86f11e7f01683c4b7567b250737d4d34d313"
  },
  "kernelspec": {
   "display_name": "Python 3.9.0 32-bit",
   "language": "python",
   "name": "python3"
  },
  "language_info": {
   "codemirror_mode": {
    "name": "ipython",
    "version": 3
   },
   "file_extension": ".py",
   "mimetype": "text/x-python",
   "name": "python",
   "nbconvert_exporter": "python",
   "pygments_lexer": "ipython3",
   "version": "3.9.0"
  },
  "orig_nbformat": 4
 },
 "nbformat": 4,
 "nbformat_minor": 2
}
