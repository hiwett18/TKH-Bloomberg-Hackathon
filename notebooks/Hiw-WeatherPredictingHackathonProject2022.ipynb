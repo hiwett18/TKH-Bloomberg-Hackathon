{
 "cells": [
  {
   "cell_type": "code",
   "execution_count": 1,
   "id": "91d4637a",
   "metadata": {},
   "outputs": [],
   "source": [
    "import pandas as pd"
   ]
  },
  {
   "cell_type": "code",
   "execution_count": 2,
   "id": "353a4cc0",
   "metadata": {},
   "outputs": [],
   "source": [
    "data = pd.read_csv('../data/data_open_weather_map.csv')"
   ]
  },
  {
   "cell_type": "code",
   "execution_count": 29,
   "id": "794d8f72",
   "metadata": {},
   "outputs": [],
   "source": [
    "df1 = data.copy()\n"
   ]
  },
  {
   "cell_type": "code",
   "execution_count": 30,
   "id": "e8cf3776",
   "metadata": {},
   "outputs": [
    {
     "name": "stdout",
     "output_type": "stream",
     "text": [
      "<class 'pandas.core.frame.DataFrame'>\n",
      "RangeIndex: 379968 entries, 0 to 379967\n",
      "Data columns (total 19 columns):\n",
      " #   Column                     Non-Null Count   Dtype  \n",
      "---  ------                     --------------   -----  \n",
      " 0   elevation                  379968 non-null  int64  \n",
      " 1   timestamp                  379968 non-null  object \n",
      " 2   textDescription            379968 non-null  object \n",
      " 3   temperature                379968 non-null  float64\n",
      " 4   dewPoint                   379967 non-null  float64\n",
      " 5   windDirection              379968 non-null  int64  \n",
      " 6   windSpeed                  379968 non-null  float64\n",
      " 7   windGust                   54718 non-null   float64\n",
      " 8   barometricPressure         379968 non-null  int64  \n",
      " 9   seaLevelPressure           0 non-null       float64\n",
      " 10  visibility                 343494 non-null  float64\n",
      " 11  maxTemperatureLast24Hours  0 non-null       float64\n",
      " 12  minTemperatureLast24Hours  0 non-null       float64\n",
      " 13  precipitationLastHour      45939 non-null   float64\n",
      " 14  precipitationLast3Hours    4752 non-null    float64\n",
      " 15  precipitationLast6Hours    0 non-null       float64\n",
      " 16  relativeHumidity           379968 non-null  int64  \n",
      " 17  windChill                  0 non-null       float64\n",
      " 18  heatIndex                  0 non-null       float64\n",
      "dtypes: float64(13), int64(4), object(2)\n",
      "memory usage: 55.1+ MB\n"
     ]
    }
   ],
   "source": [
    "df1.info()"
   ]
  },
  {
   "cell_type": "code",
   "execution_count": 31,
   "id": "d6ccdf8b",
   "metadata": {},
   "outputs": [
    {
     "data": {
      "text/plain": [
       "elevation                         0\n",
       "timestamp                         0\n",
       "textDescription                   0\n",
       "temperature                       0\n",
       "dewPoint                          1\n",
       "windDirection                     0\n",
       "windSpeed                         0\n",
       "windGust                     325250\n",
       "barometricPressure                0\n",
       "seaLevelPressure             379968\n",
       "visibility                    36474\n",
       "maxTemperatureLast24Hours    379968\n",
       "minTemperatureLast24Hours    379968\n",
       "precipitationLastHour        334029\n",
       "precipitationLast3Hours      375216\n",
       "precipitationLast6Hours      379968\n",
       "relativeHumidity                  0\n",
       "windChill                    379968\n",
       "heatIndex                    379968\n",
       "dtype: int64"
      ]
     },
     "execution_count": 31,
     "metadata": {},
     "output_type": "execute_result"
    }
   ],
   "source": [
    "df1.isnull().sum()"
   ]
  },
  {
   "cell_type": "code",
   "execution_count": 32,
   "id": "451d2a6c",
   "metadata": {},
   "outputs": [],
   "source": [
    "df2 = df1.drop(columns=['visibility','timestamp','windGust', 'maxTemperatureLast24Hours', 'minTemperatureLast24Hours', 'precipitationLastHour', 'precipitationLast3Hours', 'precipitationLast6Hours', 'windChill', 'heatIndex', 'seaLevelPressure'], inplace=True)\n"
   ]
  },
  {
   "cell_type": "code",
   "execution_count": 33,
   "id": "c25544d3",
   "metadata": {},
   "outputs": [
    {
     "data": {
      "text/html": [
       "<div>\n",
       "<style scoped>\n",
       "    .dataframe tbody tr th:only-of-type {\n",
       "        vertical-align: middle;\n",
       "    }\n",
       "\n",
       "    .dataframe tbody tr th {\n",
       "        vertical-align: top;\n",
       "    }\n",
       "\n",
       "    .dataframe thead th {\n",
       "        text-align: right;\n",
       "    }\n",
       "</style>\n",
       "<table border=\"1\" class=\"dataframe\">\n",
       "  <thead>\n",
       "    <tr style=\"text-align: right;\">\n",
       "      <th></th>\n",
       "      <th>elevation</th>\n",
       "      <th>textDescription</th>\n",
       "      <th>temperature</th>\n",
       "      <th>dewPoint</th>\n",
       "      <th>windDirection</th>\n",
       "      <th>windSpeed</th>\n",
       "      <th>barometricPressure</th>\n",
       "      <th>relativeHumidity</th>\n",
       "    </tr>\n",
       "  </thead>\n",
       "  <tbody>\n",
       "    <tr>\n",
       "      <th>0</th>\n",
       "      <td>27</td>\n",
       "      <td>Fog/Mist</td>\n",
       "      <td>6.32</td>\n",
       "      <td>5.12</td>\n",
       "      <td>170</td>\n",
       "      <td>6.7</td>\n",
       "      <td>1031</td>\n",
       "      <td>92</td>\n",
       "    </tr>\n",
       "    <tr>\n",
       "      <th>1</th>\n",
       "      <td>27</td>\n",
       "      <td>Light Precipitation</td>\n",
       "      <td>6.22</td>\n",
       "      <td>5.02</td>\n",
       "      <td>170</td>\n",
       "      <td>6.7</td>\n",
       "      <td>1031</td>\n",
       "      <td>92</td>\n",
       "    </tr>\n",
       "    <tr>\n",
       "      <th>2</th>\n",
       "      <td>27</td>\n",
       "      <td>Light Precipitation</td>\n",
       "      <td>6.28</td>\n",
       "      <td>5.08</td>\n",
       "      <td>170</td>\n",
       "      <td>6.7</td>\n",
       "      <td>1029</td>\n",
       "      <td>92</td>\n",
       "    </tr>\n",
       "    <tr>\n",
       "      <th>3</th>\n",
       "      <td>27</td>\n",
       "      <td>Light Precipitation</td>\n",
       "      <td>7.53</td>\n",
       "      <td>6.32</td>\n",
       "      <td>190</td>\n",
       "      <td>5.2</td>\n",
       "      <td>1029</td>\n",
       "      <td>92</td>\n",
       "    </tr>\n",
       "    <tr>\n",
       "      <th>4</th>\n",
       "      <td>27</td>\n",
       "      <td>Light Precipitation</td>\n",
       "      <td>7.38</td>\n",
       "      <td>6.17</td>\n",
       "      <td>190</td>\n",
       "      <td>5.2</td>\n",
       "      <td>1029</td>\n",
       "      <td>92</td>\n",
       "    </tr>\n",
       "  </tbody>\n",
       "</table>\n",
       "</div>"
      ],
      "text/plain": [
       "   elevation      textDescription  temperature  dewPoint  windDirection  \\\n",
       "0         27             Fog/Mist         6.32      5.12            170   \n",
       "1         27  Light Precipitation         6.22      5.02            170   \n",
       "2         27  Light Precipitation         6.28      5.08            170   \n",
       "3         27  Light Precipitation         7.53      6.32            190   \n",
       "4         27  Light Precipitation         7.38      6.17            190   \n",
       "\n",
       "   windSpeed  barometricPressure  relativeHumidity  \n",
       "0        6.7                1031                92  \n",
       "1        6.7                1031                92  \n",
       "2        6.7                1029                92  \n",
       "3        5.2                1029                92  \n",
       "4        5.2                1029                92  "
      ]
     },
     "execution_count": 33,
     "metadata": {},
     "output_type": "execute_result"
    }
   ],
   "source": [
    "df2 = df1.copy()\n",
    "df2.head()"
   ]
  },
  {
   "cell_type": "code",
   "execution_count": 34,
   "id": "14e0adce",
   "metadata": {},
   "outputs": [
    {
     "data": {
      "text/plain": [
       "elevation             0\n",
       "textDescription       0\n",
       "temperature           0\n",
       "dewPoint              1\n",
       "windDirection         0\n",
       "windSpeed             0\n",
       "barometricPressure    0\n",
       "relativeHumidity      0\n",
       "dtype: int64"
      ]
     },
     "execution_count": 34,
     "metadata": {},
     "output_type": "execute_result"
    }
   ],
   "source": [
    "df2.isnull().sum()"
   ]
  },
  {
   "cell_type": "code",
   "execution_count": 35,
   "id": "10fba6c6",
   "metadata": {},
   "outputs": [
    {
     "data": {
      "text/plain": [
       "(379968, 8)"
      ]
     },
     "execution_count": 35,
     "metadata": {},
     "output_type": "execute_result"
    }
   ],
   "source": [
    "df2.shape"
   ]
  },
  {
   "cell_type": "markdown",
   "id": "83d5f1a3",
   "metadata": {},
   "source": [
    "## Data Cleaning "
   ]
  },
  {
   "cell_type": "code",
   "execution_count": 36,
   "id": "e0162311",
   "metadata": {},
   "outputs": [],
   "source": [
    "# fillig the null value with a previous value\n",
    "df2 = df2.fillna(method = 'pad')"
   ]
  },
  {
   "cell_type": "code",
   "execution_count": 37,
   "id": "7c7907da",
   "metadata": {},
   "outputs": [
    {
     "data": {
      "text/plain": [
       "elevation             0\n",
       "textDescription       0\n",
       "temperature           0\n",
       "dewPoint              0\n",
       "windDirection         0\n",
       "windSpeed             0\n",
       "barometricPressure    0\n",
       "relativeHumidity      0\n",
       "dtype: int64"
      ]
     },
     "execution_count": 37,
     "metadata": {},
     "output_type": "execute_result"
    }
   ],
   "source": [
    "df2.isnull().sum()"
   ]
  },
  {
   "cell_type": "code",
   "execution_count": 38,
   "id": "bd22e0e5",
   "metadata": {},
   "outputs": [
    {
     "data": {
      "text/plain": [
       "array(['Fog/Mist', 'Light Precipitation', 'Mostly Cloudy', 'Haze',\n",
       "       'Precipitation', 'Partly Cloudy', 'Clear', 'Heavy Precipitation'],\n",
       "      dtype=object)"
      ]
     },
     "execution_count": 38,
     "metadata": {},
     "output_type": "execute_result"
    }
   ],
   "source": [
    "df2['textDescription'].unique()"
   ]
  },
  {
   "cell_type": "code",
   "execution_count": 39,
   "id": "f4e03703",
   "metadata": {},
   "outputs": [
    {
     "data": {
      "text/html": [
       "<div>\n",
       "<style scoped>\n",
       "    .dataframe tbody tr th:only-of-type {\n",
       "        vertical-align: middle;\n",
       "    }\n",
       "\n",
       "    .dataframe tbody tr th {\n",
       "        vertical-align: top;\n",
       "    }\n",
       "\n",
       "    .dataframe thead th {\n",
       "        text-align: right;\n",
       "    }\n",
       "</style>\n",
       "<table border=\"1\" class=\"dataframe\">\n",
       "  <thead>\n",
       "    <tr style=\"text-align: right;\">\n",
       "      <th></th>\n",
       "      <th>elevation</th>\n",
       "      <th>textDescription</th>\n",
       "      <th>temperature</th>\n",
       "      <th>dewPoint</th>\n",
       "      <th>windDirection</th>\n",
       "      <th>windSpeed</th>\n",
       "      <th>barometricPressure</th>\n",
       "      <th>relativeHumidity</th>\n",
       "    </tr>\n",
       "  </thead>\n",
       "  <tbody>\n",
       "    <tr>\n",
       "      <th>0</th>\n",
       "      <td>27</td>\n",
       "      <td>Fog/Mist</td>\n",
       "      <td>6.32</td>\n",
       "      <td>5.12</td>\n",
       "      <td>170</td>\n",
       "      <td>6.7</td>\n",
       "      <td>1031</td>\n",
       "      <td>92</td>\n",
       "    </tr>\n",
       "    <tr>\n",
       "      <th>1</th>\n",
       "      <td>27</td>\n",
       "      <td>Light Precipitation</td>\n",
       "      <td>6.22</td>\n",
       "      <td>5.02</td>\n",
       "      <td>170</td>\n",
       "      <td>6.7</td>\n",
       "      <td>1031</td>\n",
       "      <td>92</td>\n",
       "    </tr>\n",
       "    <tr>\n",
       "      <th>2</th>\n",
       "      <td>27</td>\n",
       "      <td>Light Precipitation</td>\n",
       "      <td>6.28</td>\n",
       "      <td>5.08</td>\n",
       "      <td>170</td>\n",
       "      <td>6.7</td>\n",
       "      <td>1029</td>\n",
       "      <td>92</td>\n",
       "    </tr>\n",
       "    <tr>\n",
       "      <th>3</th>\n",
       "      <td>27</td>\n",
       "      <td>Light Precipitation</td>\n",
       "      <td>7.53</td>\n",
       "      <td>6.32</td>\n",
       "      <td>190</td>\n",
       "      <td>5.2</td>\n",
       "      <td>1029</td>\n",
       "      <td>92</td>\n",
       "    </tr>\n",
       "    <tr>\n",
       "      <th>4</th>\n",
       "      <td>27</td>\n",
       "      <td>Light Precipitation</td>\n",
       "      <td>7.38</td>\n",
       "      <td>6.17</td>\n",
       "      <td>190</td>\n",
       "      <td>5.2</td>\n",
       "      <td>1029</td>\n",
       "      <td>92</td>\n",
       "    </tr>\n",
       "  </tbody>\n",
       "</table>\n",
       "</div>"
      ],
      "text/plain": [
       "   elevation      textDescription  temperature  dewPoint  windDirection  \\\n",
       "0         27             Fog/Mist         6.32      5.12            170   \n",
       "1         27  Light Precipitation         6.22      5.02            170   \n",
       "2         27  Light Precipitation         6.28      5.08            170   \n",
       "3         27  Light Precipitation         7.53      6.32            190   \n",
       "4         27  Light Precipitation         7.38      6.17            190   \n",
       "\n",
       "   windSpeed  barometricPressure  relativeHumidity  \n",
       "0        6.7                1031                92  \n",
       "1        6.7                1031                92  \n",
       "2        6.7                1029                92  \n",
       "3        5.2                1029                92  \n",
       "4        5.2                1029                92  "
      ]
     },
     "execution_count": 39,
     "metadata": {},
     "output_type": "execute_result"
    }
   ],
   "source": [
    "df3 = df2.copy()\n",
    "df3.head()"
   ]
  },
  {
   "cell_type": "code",
   "execution_count": 41,
   "id": "aca46bd9",
   "metadata": {},
   "outputs": [
    {
     "data": {
      "text/plain": [
       "Clear                  125677\n",
       "Partly Cloudy           95208\n",
       "Mostly Cloudy           58703\n",
       "Fog/Mist                38248\n",
       "Light Precipitation     34537\n",
       "Haze                    17434\n",
       "Precipitation            8437\n",
       "Heavy Precipitation      1724\n",
       "Name: textDescription, dtype: int64"
      ]
     },
     "execution_count": 41,
     "metadata": {},
     "output_type": "execute_result"
    }
   ],
   "source": [
    "df3.textDescription.value_counts()"
   ]
  },
  {
   "cell_type": "code",
   "execution_count": 40,
   "id": "3ff9dc03",
   "metadata": {
    "scrolled": true
   },
   "outputs": [
    {
     "data": {
      "text/html": [
       "<div>\n",
       "<style scoped>\n",
       "    .dataframe tbody tr th:only-of-type {\n",
       "        vertical-align: middle;\n",
       "    }\n",
       "\n",
       "    .dataframe tbody tr th {\n",
       "        vertical-align: top;\n",
       "    }\n",
       "\n",
       "    .dataframe thead th {\n",
       "        text-align: right;\n",
       "    }\n",
       "</style>\n",
       "<table border=\"1\" class=\"dataframe\">\n",
       "  <thead>\n",
       "    <tr style=\"text-align: right;\">\n",
       "      <th></th>\n",
       "      <th>elevation</th>\n",
       "      <th>textDescription</th>\n",
       "      <th>temperature</th>\n",
       "      <th>dewPoint</th>\n",
       "      <th>windDirection</th>\n",
       "      <th>windSpeed</th>\n",
       "      <th>barometricPressure</th>\n",
       "      <th>relativeHumidity</th>\n",
       "      <th>weather_scale</th>\n",
       "    </tr>\n",
       "  </thead>\n",
       "  <tbody>\n",
       "    <tr>\n",
       "      <th>0</th>\n",
       "      <td>27</td>\n",
       "      <td>Fog/Mist</td>\n",
       "      <td>6.32</td>\n",
       "      <td>5.12</td>\n",
       "      <td>170</td>\n",
       "      <td>6.7</td>\n",
       "      <td>1031</td>\n",
       "      <td>92</td>\n",
       "      <td>4</td>\n",
       "    </tr>\n",
       "    <tr>\n",
       "      <th>1</th>\n",
       "      <td>27</td>\n",
       "      <td>Light Precipitation</td>\n",
       "      <td>6.22</td>\n",
       "      <td>5.02</td>\n",
       "      <td>170</td>\n",
       "      <td>6.7</td>\n",
       "      <td>1031</td>\n",
       "      <td>92</td>\n",
       "      <td>6</td>\n",
       "    </tr>\n",
       "    <tr>\n",
       "      <th>2</th>\n",
       "      <td>27</td>\n",
       "      <td>Light Precipitation</td>\n",
       "      <td>6.28</td>\n",
       "      <td>5.08</td>\n",
       "      <td>170</td>\n",
       "      <td>6.7</td>\n",
       "      <td>1029</td>\n",
       "      <td>92</td>\n",
       "      <td>6</td>\n",
       "    </tr>\n",
       "    <tr>\n",
       "      <th>3</th>\n",
       "      <td>27</td>\n",
       "      <td>Light Precipitation</td>\n",
       "      <td>7.53</td>\n",
       "      <td>6.32</td>\n",
       "      <td>190</td>\n",
       "      <td>5.2</td>\n",
       "      <td>1029</td>\n",
       "      <td>92</td>\n",
       "      <td>6</td>\n",
       "    </tr>\n",
       "    <tr>\n",
       "      <th>4</th>\n",
       "      <td>27</td>\n",
       "      <td>Light Precipitation</td>\n",
       "      <td>7.38</td>\n",
       "      <td>6.17</td>\n",
       "      <td>190</td>\n",
       "      <td>5.2</td>\n",
       "      <td>1029</td>\n",
       "      <td>92</td>\n",
       "      <td>6</td>\n",
       "    </tr>\n",
       "  </tbody>\n",
       "</table>\n",
       "</div>"
      ],
      "text/plain": [
       "   elevation      textDescription  temperature  dewPoint  windDirection  \\\n",
       "0         27             Fog/Mist         6.32      5.12            170   \n",
       "1         27  Light Precipitation         6.22      5.02            170   \n",
       "2         27  Light Precipitation         6.28      5.08            170   \n",
       "3         27  Light Precipitation         7.53      6.32            190   \n",
       "4         27  Light Precipitation         7.38      6.17            190   \n",
       "\n",
       "   windSpeed  barometricPressure  relativeHumidity  weather_scale  \n",
       "0        6.7                1031                92              4  \n",
       "1        6.7                1031                92              6  \n",
       "2        6.7                1029                92              6  \n",
       "3        5.2                1029                92              6  \n",
       "4        5.2                1029                92              6  "
      ]
     },
     "execution_count": 40,
     "metadata": {},
     "output_type": "execute_result"
    }
   ],
   "source": [
    "weather_assign = {\"Clear\":1, \n",
    "                \"Partly Cloudy\":2, \n",
    "                \"Mostly Cloudy\":3,\n",
    "                \"Fog/Mist\":4,\n",
    "                \"Haze\":5,\n",
    "                \"Light Precipitation\":6,\n",
    "                \"Precipitation\":7,\n",
    "                \"Heavy Precipitation\":8\n",
    "                }\n",
    "df3[\"weather_scale\"] = df3[\"textDescription\"].replace(weather_assign)\n",
    "\n",
    "df3.head()"
   ]
  },
  {
   "cell_type": "code",
   "execution_count": 42,
   "id": "0d55a73b",
   "metadata": {},
   "outputs": [
    {
     "data": {
      "text/plain": [
       "(379968, 9)"
      ]
     },
     "execution_count": 42,
     "metadata": {},
     "output_type": "execute_result"
    }
   ],
   "source": [
    "df3.shape"
   ]
  },
  {
   "cell_type": "code",
   "execution_count": 43,
   "id": "8683f674",
   "metadata": {},
   "outputs": [
    {
     "name": "stdout",
     "output_type": "stream",
     "text": [
      "<class 'pandas.core.frame.DataFrame'>\n",
      "RangeIndex: 379968 entries, 0 to 379967\n",
      "Data columns (total 9 columns):\n",
      " #   Column              Non-Null Count   Dtype  \n",
      "---  ------              --------------   -----  \n",
      " 0   elevation           379968 non-null  int64  \n",
      " 1   textDescription     379968 non-null  object \n",
      " 2   temperature         379968 non-null  float64\n",
      " 3   dewPoint            379968 non-null  float64\n",
      " 4   windDirection       379968 non-null  int64  \n",
      " 5   windSpeed           379968 non-null  float64\n",
      " 6   barometricPressure  379968 non-null  int64  \n",
      " 7   relativeHumidity    379968 non-null  int64  \n",
      " 8   weather_scale       379968 non-null  int64  \n",
      "dtypes: float64(3), int64(5), object(1)\n",
      "memory usage: 26.1+ MB\n"
     ]
    }
   ],
   "source": [
    "df3.info()"
   ]
  },
  {
   "cell_type": "code",
   "execution_count": 45,
   "id": "6d420758",
   "metadata": {},
   "outputs": [
    {
     "data": {
      "text/html": [
       "<div>\n",
       "<style scoped>\n",
       "    .dataframe tbody tr th:only-of-type {\n",
       "        vertical-align: middle;\n",
       "    }\n",
       "\n",
       "    .dataframe tbody tr th {\n",
       "        vertical-align: top;\n",
       "    }\n",
       "\n",
       "    .dataframe thead th {\n",
       "        text-align: right;\n",
       "    }\n",
       "</style>\n",
       "<table border=\"1\" class=\"dataframe\">\n",
       "  <thead>\n",
       "    <tr style=\"text-align: right;\">\n",
       "      <th></th>\n",
       "      <th>elevation</th>\n",
       "      <th>textDescription</th>\n",
       "      <th>temperature</th>\n",
       "      <th>dewPoint</th>\n",
       "      <th>windDirection</th>\n",
       "      <th>windSpeed</th>\n",
       "      <th>barometricPressure</th>\n",
       "      <th>relativeHumidity</th>\n",
       "      <th>weather_scale</th>\n",
       "    </tr>\n",
       "  </thead>\n",
       "  <tbody>\n",
       "    <tr>\n",
       "      <th>0</th>\n",
       "      <td>27</td>\n",
       "      <td>Fog/Mist</td>\n",
       "      <td>6.32</td>\n",
       "      <td>5.12</td>\n",
       "      <td>170</td>\n",
       "      <td>6.7</td>\n",
       "      <td>1031</td>\n",
       "      <td>92</td>\n",
       "      <td>4</td>\n",
       "    </tr>\n",
       "    <tr>\n",
       "      <th>1</th>\n",
       "      <td>27</td>\n",
       "      <td>Light Precipitation</td>\n",
       "      <td>6.22</td>\n",
       "      <td>5.02</td>\n",
       "      <td>170</td>\n",
       "      <td>6.7</td>\n",
       "      <td>1031</td>\n",
       "      <td>92</td>\n",
       "      <td>6</td>\n",
       "    </tr>\n",
       "    <tr>\n",
       "      <th>2</th>\n",
       "      <td>27</td>\n",
       "      <td>Light Precipitation</td>\n",
       "      <td>6.28</td>\n",
       "      <td>5.08</td>\n",
       "      <td>170</td>\n",
       "      <td>6.7</td>\n",
       "      <td>1029</td>\n",
       "      <td>92</td>\n",
       "      <td>6</td>\n",
       "    </tr>\n",
       "    <tr>\n",
       "      <th>3</th>\n",
       "      <td>27</td>\n",
       "      <td>Light Precipitation</td>\n",
       "      <td>7.53</td>\n",
       "      <td>6.32</td>\n",
       "      <td>190</td>\n",
       "      <td>5.2</td>\n",
       "      <td>1029</td>\n",
       "      <td>92</td>\n",
       "      <td>6</td>\n",
       "    </tr>\n",
       "    <tr>\n",
       "      <th>4</th>\n",
       "      <td>27</td>\n",
       "      <td>Light Precipitation</td>\n",
       "      <td>7.38</td>\n",
       "      <td>6.17</td>\n",
       "      <td>190</td>\n",
       "      <td>5.2</td>\n",
       "      <td>1029</td>\n",
       "      <td>92</td>\n",
       "      <td>6</td>\n",
       "    </tr>\n",
       "  </tbody>\n",
       "</table>\n",
       "</div>"
      ],
      "text/plain": [
       "   elevation      textDescription  temperature  dewPoint  windDirection  \\\n",
       "0         27             Fog/Mist         6.32      5.12            170   \n",
       "1         27  Light Precipitation         6.22      5.02            170   \n",
       "2         27  Light Precipitation         6.28      5.08            170   \n",
       "3         27  Light Precipitation         7.53      6.32            190   \n",
       "4         27  Light Precipitation         7.38      6.17            190   \n",
       "\n",
       "   windSpeed  barometricPressure  relativeHumidity  weather_scale  \n",
       "0        6.7                1031                92              4  \n",
       "1        6.7                1031                92              6  \n",
       "2        6.7                1029                92              6  \n",
       "3        5.2                1029                92              6  \n",
       "4        5.2                1029                92              6  "
      ]
     },
     "execution_count": 45,
     "metadata": {},
     "output_type": "execute_result"
    }
   ],
   "source": [
    "df4 = df3.copy()\n",
    "df4.head()"
   ]
  },
  {
   "cell_type": "code",
   "execution_count": 57,
   "id": "bf61c0e8",
   "metadata": {},
   "outputs": [],
   "source": [
    "import seaborn as sns\n",
    "import matplotlib.pyplot as plt"
   ]
  },
  {
   "cell_type": "code",
   "execution_count": 58,
   "id": "494705ad",
   "metadata": {},
   "outputs": [
    {
     "data": {
      "text/plain": [
       "Text(0.5, 1.0, 'Correlation Heatmap')"
      ]
     },
     "execution_count": 58,
     "metadata": {},
     "output_type": "execute_result"
    },
    {
     "data": {
      "image/png": "[encoded data removed]",
      "text/plain": [
       "<Figure size 720x720 with 2 Axes>"
      ]
     },
     "metadata": {
      "needs_background": "light"
     },
     "output_type": "display_data"
    }
   ],
   "source": [
    "plt.figure(figsize=(10,10))\n",
    "sns.heatmap(df4.corr(), annot=True, cmap='coolwarm')\n",
    "plt.title('Correlation Heatmap')\n"
   ]
  },
  {
   "cell_type": "markdown",
   "id": "b12dd8e4",
   "metadata": {},
   "source": [
    "## Selecting Features "
   ]
  },
  {
   "cell_type": "code",
   "execution_count": 62,
   "id": "3d3c8ccc",
   "metadata": {},
   "outputs": [
    {
     "data": {
      "text/plain": [
       "elevation                  NaN\n",
       "temperature           0.032958\n",
       "dewPoint              0.268651\n",
       "windDirection        -0.126223\n",
       "windSpeed             0.049796\n",
       "barometricPressure   -0.262152\n",
       "relativeHumidity      0.525717\n",
       "weather_scale         1.000000\n",
       "Name: weather_scale, dtype: float64"
      ]
     },
     "execution_count": 62,
     "metadata": {},
     "output_type": "execute_result"
    }
   ],
   "source": [
    "corr = df4.corr()\n",
    "all_corr = corr.weather_scale\n",
    "all_corr"
   ]
  },
  {
   "cell_type": "markdown",
   "id": "cc8996c6",
   "metadata": {},
   "source": [
    "### Selected medium and highly correlated features: \n",
    "* Visibility, \n",
    "* relativeHumidity, \n",
    "* dewpoint"
   ]
  },
  {
   "cell_type": "code",
   "execution_count": 160,
   "id": "e2ea26c3",
   "metadata": {},
   "outputs": [
    {
     "data": {
      "text/html": [
       "<div>\n",
       "<style scoped>\n",
       "    .dataframe tbody tr th:only-of-type {\n",
       "        vertical-align: middle;\n",
       "    }\n",
       "\n",
       "    .dataframe tbody tr th {\n",
       "        vertical-align: top;\n",
       "    }\n",
       "\n",
       "    .dataframe thead th {\n",
       "        text-align: right;\n",
       "    }\n",
       "</style>\n",
       "<table border=\"1\" class=\"dataframe\">\n",
       "  <thead>\n",
       "    <tr style=\"text-align: right;\">\n",
       "      <th></th>\n",
       "      <th>relativeHumidity</th>\n",
       "      <th>dewpoint</th>\n",
       "      <th>visibility</th>\n",
       "      <th>weather_scale</th>\n",
       "    </tr>\n",
       "  </thead>\n",
       "  <tbody>\n",
       "    <tr>\n",
       "      <th>0</th>\n",
       "      <td>54.110084</td>\n",
       "      <td>1.7</td>\n",
       "      <td>16090</td>\n",
       "      <td>1.0</td>\n",
       "    </tr>\n",
       "    <tr>\n",
       "      <th>1</th>\n",
       "      <td>96.074595</td>\n",
       "      <td>10.0</td>\n",
       "      <td>9660</td>\n",
       "      <td>9.0</td>\n",
       "    </tr>\n",
       "    <tr>\n",
       "      <th>2</th>\n",
       "      <td>92.842633</td>\n",
       "      <td>8.3</td>\n",
       "      <td>6440</td>\n",
       "      <td>11.0</td>\n",
       "    </tr>\n",
       "    <tr>\n",
       "      <th>3</th>\n",
       "      <td>38.862553</td>\n",
       "      <td>1.1</td>\n",
       "      <td>16090</td>\n",
       "      <td>1.0</td>\n",
       "    </tr>\n",
       "    <tr>\n",
       "      <th>4</th>\n",
       "      <td>12.164783</td>\n",
       "      <td>-10.6</td>\n",
       "      <td>16090</td>\n",
       "      <td>1.0</td>\n",
       "    </tr>\n",
       "  </tbody>\n",
       "</table>\n",
       "</div>"
      ],
      "text/plain": [
       "   relativeHumidity  dewpoint  visibility  weather_scale\n",
       "0         54.110084       1.7       16090            1.0\n",
       "1         96.074595      10.0        9660            9.0\n",
       "2         92.842633       8.3        6440           11.0\n",
       "3         38.862553       1.1       16090            1.0\n",
       "4         12.164783     -10.6       16090            1.0"
      ]
     },
     "execution_count": 160,
     "metadata": {},
     "output_type": "execute_result"
    }
   ],
   "source": [
    "df = df5.filter(['relativeHumidity','dewpoint', 'visibility', 'weather_scale'], axis=1)\n",
    "df.head()"
   ]
  },
  {
   "cell_type": "code",
   "execution_count": 163,
   "id": "04e32084",
   "metadata": {},
   "outputs": [],
   "source": [
    "#create inputs and output dataframe split\n",
    "X = df.drop(['weather_scale'], axis=1)\n",
    "y = df['weather_scale'] \n"
   ]
  },
  {
   "cell_type": "code",
   "execution_count": 164,
   "id": "ca9cb3c9",
   "metadata": {},
   "outputs": [],
   "source": [
    "# create train test split\n",
    "X_train, X_test, y_train, y_test = train_test_split(X, y, test_size=0.25, shuffle=False)\n"
   ]
  },
  {
   "cell_type": "markdown",
   "id": "ca702749",
   "metadata": {},
   "source": [
    "## Cleaning "
   ]
  },
  {
   "cell_type": "code",
   "execution_count": 117,
   "id": "c75ac203",
   "metadata": {},
   "outputs": [],
   "source": [
    "x_train_df = pd.read_csv(\"../data/x_train.csv\")\n",
    "y_train_df = pd.read_csv(\"../data/y_train.csv\")\n",
    "x_test_df = pd.read_csv(\"../data/x_test.csv\")\n",
    "y_test_df = pd.read_csv(\"../data/y_test.csv\")"
   ]
  },
  {
   "cell_type": "code",
   "execution_count": 79,
   "id": "586cf262",
   "metadata": {},
   "outputs": [
    {
     "data": {
      "text/plain": [
       "temperature              65\n",
       "dewPoint                 67\n",
       "windDirection           144\n",
       "windSpeed                96\n",
       "barometricPressure       64\n",
       "visibility            25506\n",
       "relativeHumidity         67\n",
       "elevation                 0\n",
       "dtype: int64"
      ]
     },
     "execution_count": 79,
     "metadata": {},
     "output_type": "execute_result"
    }
   ],
   "source": [
    "x_train_df.isnull().sum()"
   ]
  },
  {
   "cell_type": "code",
   "execution_count": 88,
   "id": "09f7b7ee",
   "metadata": {},
   "outputs": [
    {
     "data": {
      "text/plain": [
       "temperature           0\n",
       "dewPoint              0\n",
       "windDirection         0\n",
       "windSpeed             0\n",
       "barometricPressure    0\n",
       "visibility            0\n",
       "relativeHumidity      0\n",
       "elevation             0\n",
       "dtype: int64"
      ]
     },
     "execution_count": 88,
     "metadata": {},
     "output_type": "execute_result"
    }
   ],
   "source": [
    "X_train = x_train_df.fillna(method=\"pad\")\n",
    "X_train.isnull().sum()"
   ]
  },
  {
   "cell_type": "code",
   "execution_count": 89,
   "id": "3581ecc6",
   "metadata": {},
   "outputs": [
    {
     "data": {
      "text/html": [
       "<div>\n",
       "<style scoped>\n",
       "    .dataframe tbody tr th:only-of-type {\n",
       "        vertical-align: middle;\n",
       "    }\n",
       "\n",
       "    .dataframe tbody tr th {\n",
       "        vertical-align: top;\n",
       "    }\n",
       "\n",
       "    .dataframe thead th {\n",
       "        text-align: right;\n",
       "    }\n",
       "</style>\n",
       "<table border=\"1\" class=\"dataframe\">\n",
       "  <thead>\n",
       "    <tr style=\"text-align: right;\">\n",
       "      <th></th>\n",
       "      <th>textDescription</th>\n",
       "    </tr>\n",
       "  </thead>\n",
       "  <tbody>\n",
       "    <tr>\n",
       "      <th>0</th>\n",
       "      <td>Mostly Cloudy</td>\n",
       "    </tr>\n",
       "    <tr>\n",
       "      <th>1</th>\n",
       "      <td>Partly Cloudy</td>\n",
       "    </tr>\n",
       "    <tr>\n",
       "      <th>2</th>\n",
       "      <td>Partly Cloudy</td>\n",
       "    </tr>\n",
       "    <tr>\n",
       "      <th>3</th>\n",
       "      <td>Partly Cloudy</td>\n",
       "    </tr>\n",
       "    <tr>\n",
       "      <th>4</th>\n",
       "      <td>Clear</td>\n",
       "    </tr>\n",
       "  </tbody>\n",
       "</table>\n",
       "</div>"
      ],
      "text/plain": [
       "  textDescription\n",
       "0   Mostly Cloudy\n",
       "1   Partly Cloudy\n",
       "2   Partly Cloudy\n",
       "3   Partly Cloudy\n",
       "4           Clear"
      ]
     },
     "execution_count": 89,
     "metadata": {},
     "output_type": "execute_result"
    }
   ],
   "source": [
    "y_train_df.head()"
   ]
  },
  {
   "cell_type": "code",
   "execution_count": 93,
   "id": "ec5c7e8d",
   "metadata": {},
   "outputs": [
    {
     "data": {
      "text/plain": [
       "textDescription    0\n",
       "dtype: int64"
      ]
     },
     "execution_count": 93,
     "metadata": {},
     "output_type": "execute_result"
    }
   ],
   "source": [
    "y_train = y_train_df.fillna(method=\"pad\")\n",
    "y_train.isnull().sum()"
   ]
  },
  {
   "cell_type": "code",
   "execution_count": 110,
   "id": "98017224",
   "metadata": {},
   "outputs": [
    {
     "data": {
      "text/plain": [
       "textDescription    \n",
       "Clear                  88184\n",
       "Partly Cloudy          66877\n",
       "Mostly Cloudy          41268\n",
       "Fog/Mist               26768\n",
       "Light Precipitation    24244\n",
       "Haze                   12230\n",
       "Precipitation           5898\n",
       "Heavy Precipitation     1206\n",
       "dtype: int64"
      ]
     },
     "execution_count": 110,
     "metadata": {},
     "output_type": "execute_result"
    }
   ],
   "source": [
    "y_train.value_counts()"
   ]
  },
  {
   "cell_type": "code",
   "execution_count": 111,
   "id": "41f9bb35",
   "metadata": {},
   "outputs": [
    {
     "data": {
      "text/html": [
       "<div>\n",
       "<style scoped>\n",
       "    .dataframe tbody tr th:only-of-type {\n",
       "        vertical-align: middle;\n",
       "    }\n",
       "\n",
       "    .dataframe tbody tr th {\n",
       "        vertical-align: top;\n",
       "    }\n",
       "\n",
       "    .dataframe thead th {\n",
       "        text-align: right;\n",
       "    }\n",
       "</style>\n",
       "<table border=\"1\" class=\"dataframe\">\n",
       "  <thead>\n",
       "    <tr style=\"text-align: right;\">\n",
       "      <th></th>\n",
       "      <th>textDescription</th>\n",
       "      <th>weather_scale</th>\n",
       "    </tr>\n",
       "  </thead>\n",
       "  <tbody>\n",
       "    <tr>\n",
       "      <th>0</th>\n",
       "      <td>Mostly Cloudy</td>\n",
       "      <td>3</td>\n",
       "    </tr>\n",
       "    <tr>\n",
       "      <th>1</th>\n",
       "      <td>Partly Cloudy</td>\n",
       "      <td>2</td>\n",
       "    </tr>\n",
       "    <tr>\n",
       "      <th>2</th>\n",
       "      <td>Partly Cloudy</td>\n",
       "      <td>2</td>\n",
       "    </tr>\n",
       "    <tr>\n",
       "      <th>3</th>\n",
       "      <td>Partly Cloudy</td>\n",
       "      <td>2</td>\n",
       "    </tr>\n",
       "    <tr>\n",
       "      <th>4</th>\n",
       "      <td>Clear</td>\n",
       "      <td>1</td>\n",
       "    </tr>\n",
       "  </tbody>\n",
       "</table>\n",
       "</div>"
      ],
      "text/plain": [
       "  textDescription  weather_scale\n",
       "0   Mostly Cloudy              3\n",
       "1   Partly Cloudy              2\n",
       "2   Partly Cloudy              2\n",
       "3   Partly Cloudy              2\n",
       "4           Clear              1"
      ]
     },
     "execution_count": 111,
     "metadata": {},
     "output_type": "execute_result"
    }
   ],
   "source": [
    "weather_assign = {\"Clear\":1, \n",
    "                \"Partly Cloudy\":2, \n",
    "                \"Mostly Cloudy\":3,\n",
    "                \"Fog/Mist\":4,\n",
    "                \"Haze\":5,\n",
    "                \"Light Precipitation\":6,\n",
    "                \"Precipitation\":7,\n",
    "                \"Heavy Precipitation\":8\n",
    "                }\n",
    "y_train[\"weather_scale\"] = y_train[\"textDescription\"].replace(weather_assign)\n",
    "\n",
    "y_train.head()"
   ]
  },
  {
   "cell_type": "code",
   "execution_count": 112,
   "id": "e456ee3d",
   "metadata": {},
   "outputs": [],
   "source": [
    "y_train.drop(columns=[\"textDescription\"], inplace=True)"
   ]
  },
  {
   "cell_type": "code",
   "execution_count": 114,
   "id": "165363ac",
   "metadata": {},
   "outputs": [
    {
     "data": {
      "text/html": [
       "<div>\n",
       "<style scoped>\n",
       "    .dataframe tbody tr th:only-of-type {\n",
       "        vertical-align: middle;\n",
       "    }\n",
       "\n",
       "    .dataframe tbody tr th {\n",
       "        vertical-align: top;\n",
       "    }\n",
       "\n",
       "    .dataframe thead th {\n",
       "        text-align: right;\n",
       "    }\n",
       "</style>\n",
       "<table border=\"1\" class=\"dataframe\">\n",
       "  <thead>\n",
       "    <tr style=\"text-align: right;\">\n",
       "      <th></th>\n",
       "      <th>weather_scale</th>\n",
       "    </tr>\n",
       "  </thead>\n",
       "  <tbody>\n",
       "    <tr>\n",
       "      <th>0</th>\n",
       "      <td>3</td>\n",
       "    </tr>\n",
       "    <tr>\n",
       "      <th>1</th>\n",
       "      <td>2</td>\n",
       "    </tr>\n",
       "    <tr>\n",
       "      <th>2</th>\n",
       "      <td>2</td>\n",
       "    </tr>\n",
       "    <tr>\n",
       "      <th>3</th>\n",
       "      <td>2</td>\n",
       "    </tr>\n",
       "    <tr>\n",
       "      <th>4</th>\n",
       "      <td>1</td>\n",
       "    </tr>\n",
       "  </tbody>\n",
       "</table>\n",
       "</div>"
      ],
      "text/plain": [
       "   weather_scale\n",
       "0              3\n",
       "1              2\n",
       "2              2\n",
       "3              2\n",
       "4              1"
      ]
     },
     "execution_count": 114,
     "metadata": {},
     "output_type": "execute_result"
    }
   ],
   "source": [
    "y_train.head()"
   ]
  },
  {
   "cell_type": "code",
   "execution_count": 98,
   "id": "f8a7b482",
   "metadata": {},
   "outputs": [],
   "source": [
    "#x_test_df.drop(columns=[\"seaLevelPressure\"], inplace=True)\n",
    "X_test = x_test_df.head()"
   ]
  },
  {
   "cell_type": "code",
   "execution_count": 101,
   "id": "d1c045c4",
   "metadata": {},
   "outputs": [
    {
     "data": {
      "text/html": [
       "<div>\n",
       "<style scoped>\n",
       "    .dataframe tbody tr th:only-of-type {\n",
       "        vertical-align: middle;\n",
       "    }\n",
       "\n",
       "    .dataframe tbody tr th {\n",
       "        vertical-align: top;\n",
       "    }\n",
       "\n",
       "    .dataframe thead th {\n",
       "        text-align: right;\n",
       "    }\n",
       "</style>\n",
       "<table border=\"1\" class=\"dataframe\">\n",
       "  <thead>\n",
       "    <tr style=\"text-align: right;\">\n",
       "      <th></th>\n",
       "      <th>temperature</th>\n",
       "      <th>dewPoint</th>\n",
       "      <th>windDirection</th>\n",
       "      <th>windSpeed</th>\n",
       "      <th>barometricPressure</th>\n",
       "      <th>visibility</th>\n",
       "      <th>relativeHumidity</th>\n",
       "      <th>elevation</th>\n",
       "    </tr>\n",
       "  </thead>\n",
       "  <tbody>\n",
       "    <tr>\n",
       "      <th>0</th>\n",
       "      <td>9.18</td>\n",
       "      <td>1.59</td>\n",
       "      <td>0.0</td>\n",
       "      <td>0.00</td>\n",
       "      <td>1028.0</td>\n",
       "      <td>10000.0</td>\n",
       "      <td>59.0</td>\n",
       "      <td>27</td>\n",
       "    </tr>\n",
       "    <tr>\n",
       "      <th>1</th>\n",
       "      <td>16.92</td>\n",
       "      <td>11.63</td>\n",
       "      <td>0.0</td>\n",
       "      <td>3.09</td>\n",
       "      <td>1012.0</td>\n",
       "      <td>10000.0</td>\n",
       "      <td>71.0</td>\n",
       "      <td>27</td>\n",
       "    </tr>\n",
       "    <tr>\n",
       "      <th>2</th>\n",
       "      <td>-9.33</td>\n",
       "      <td>-13.00</td>\n",
       "      <td>341.0</td>\n",
       "      <td>6.57</td>\n",
       "      <td>1035.0</td>\n",
       "      <td>10000.0</td>\n",
       "      <td>72.0</td>\n",
       "      <td>27</td>\n",
       "    </tr>\n",
       "    <tr>\n",
       "      <th>3</th>\n",
       "      <td>21.44</td>\n",
       "      <td>6.55</td>\n",
       "      <td>0.0</td>\n",
       "      <td>0.00</td>\n",
       "      <td>1017.0</td>\n",
       "      <td>10000.0</td>\n",
       "      <td>38.0</td>\n",
       "      <td>27</td>\n",
       "    </tr>\n",
       "    <tr>\n",
       "      <th>4</th>\n",
       "      <td>2.01</td>\n",
       "      <td>-6.73</td>\n",
       "      <td>270.0</td>\n",
       "      <td>12.40</td>\n",
       "      <td>1005.0</td>\n",
       "      <td>10000.0</td>\n",
       "      <td>49.0</td>\n",
       "      <td>27</td>\n",
       "    </tr>\n",
       "  </tbody>\n",
       "</table>\n",
       "</div>"
      ],
      "text/plain": [
       "   temperature  dewPoint  windDirection  windSpeed  barometricPressure  \\\n",
       "0         9.18      1.59            0.0       0.00              1028.0   \n",
       "1        16.92     11.63            0.0       3.09              1012.0   \n",
       "2        -9.33    -13.00          341.0       6.57              1035.0   \n",
       "3        21.44      6.55            0.0       0.00              1017.0   \n",
       "4         2.01     -6.73          270.0      12.40              1005.0   \n",
       "\n",
       "   visibility  relativeHumidity  elevation  \n",
       "0     10000.0              59.0         27  \n",
       "1     10000.0              71.0         27  \n",
       "2     10000.0              72.0         27  \n",
       "3     10000.0              38.0         27  \n",
       "4     10000.0              49.0         27  "
      ]
     },
     "execution_count": 101,
     "metadata": {},
     "output_type": "execute_result"
    }
   ],
   "source": [
    "X_test = X_test.fillna(method=\"pad\")\n",
    "X_test.head()"
   ]
  },
  {
   "cell_type": "code",
   "execution_count": 120,
   "id": "e641aaef",
   "metadata": {},
   "outputs": [
    {
     "data": {
      "text/html": [
       "<div>\n",
       "<style scoped>\n",
       "    .dataframe tbody tr th:only-of-type {\n",
       "        vertical-align: middle;\n",
       "    }\n",
       "\n",
       "    .dataframe tbody tr th {\n",
       "        vertical-align: top;\n",
       "    }\n",
       "\n",
       "    .dataframe thead th {\n",
       "        text-align: right;\n",
       "    }\n",
       "</style>\n",
       "<table border=\"1\" class=\"dataframe\">\n",
       "  <thead>\n",
       "    <tr style=\"text-align: right;\">\n",
       "      <th></th>\n",
       "      <th>textDescription</th>\n",
       "    </tr>\n",
       "  </thead>\n",
       "  <tbody>\n",
       "    <tr>\n",
       "      <th>0</th>\n",
       "      <td>Clear</td>\n",
       "    </tr>\n",
       "    <tr>\n",
       "      <th>1</th>\n",
       "      <td>Light Precipitation</td>\n",
       "    </tr>\n",
       "    <tr>\n",
       "      <th>2</th>\n",
       "      <td>Clear</td>\n",
       "    </tr>\n",
       "    <tr>\n",
       "      <th>3</th>\n",
       "      <td>Clear</td>\n",
       "    </tr>\n",
       "    <tr>\n",
       "      <th>4</th>\n",
       "      <td>Clear</td>\n",
       "    </tr>\n",
       "  </tbody>\n",
       "</table>\n",
       "</div>"
      ],
      "text/plain": [
       "       textDescription\n",
       "0                Clear\n",
       "1  Light Precipitation\n",
       "2                Clear\n",
       "3                Clear\n",
       "4                Clear"
      ]
     },
     "execution_count": 120,
     "metadata": {},
     "output_type": "execute_result"
    }
   ],
   "source": [
    "y_test = y_test_df\n",
    "y_test.head()"
   ]
  },
  {
   "cell_type": "code",
   "execution_count": 121,
   "id": "4dac0d5b",
   "metadata": {},
   "outputs": [
    {
     "data": {
      "text/html": [
       "<div>\n",
       "<style scoped>\n",
       "    .dataframe tbody tr th:only-of-type {\n",
       "        vertical-align: middle;\n",
       "    }\n",
       "\n",
       "    .dataframe tbody tr th {\n",
       "        vertical-align: top;\n",
       "    }\n",
       "\n",
       "    .dataframe thead th {\n",
       "        text-align: right;\n",
       "    }\n",
       "</style>\n",
       "<table border=\"1\" class=\"dataframe\">\n",
       "  <thead>\n",
       "    <tr style=\"text-align: right;\">\n",
       "      <th></th>\n",
       "      <th>textDescription</th>\n",
       "      <th>weather_scale</th>\n",
       "    </tr>\n",
       "  </thead>\n",
       "  <tbody>\n",
       "    <tr>\n",
       "      <th>0</th>\n",
       "      <td>Clear</td>\n",
       "      <td>1.0</td>\n",
       "    </tr>\n",
       "    <tr>\n",
       "      <th>1</th>\n",
       "      <td>Light Precipitation</td>\n",
       "      <td>6.0</td>\n",
       "    </tr>\n",
       "    <tr>\n",
       "      <th>2</th>\n",
       "      <td>Clear</td>\n",
       "      <td>1.0</td>\n",
       "    </tr>\n",
       "    <tr>\n",
       "      <th>3</th>\n",
       "      <td>Clear</td>\n",
       "      <td>1.0</td>\n",
       "    </tr>\n",
       "    <tr>\n",
       "      <th>4</th>\n",
       "      <td>Clear</td>\n",
       "      <td>1.0</td>\n",
       "    </tr>\n",
       "  </tbody>\n",
       "</table>\n",
       "</div>"
      ],
      "text/plain": [
       "       textDescription  weather_scale\n",
       "0                Clear            1.0\n",
       "1  Light Precipitation            6.0\n",
       "2                Clear            1.0\n",
       "3                Clear            1.0\n",
       "4                Clear            1.0"
      ]
     },
     "execution_count": 121,
     "metadata": {},
     "output_type": "execute_result"
    }
   ],
   "source": [
    "weather_assign = {\"Clear\":1, \n",
    "                \"Partly Cloudy\":2, \n",
    "                \"Mostly Cloudy\":3,\n",
    "                \"Fog/Mist\":4,\n",
    "                \"Haze\":5,\n",
    "                \"Light Precipitation\":6,\n",
    "                \"Precipitation\":7,\n",
    "                \"Heavy Precipitation\":8\n",
    "                }\n",
    "y_test[\"weather_scale\"] = y_test[\"textDescription\"].replace(weather_assign)\n",
    "\n",
    "y_test.head()"
   ]
  },
  {
   "cell_type": "code",
   "execution_count": 122,
   "id": "c8fec52b",
   "metadata": {},
   "outputs": [],
   "source": [
    "y_test.drop(columns=[\"textDescription\"], inplace=True)"
   ]
  },
  {
   "cell_type": "code",
   "execution_count": 123,
   "id": "2b637ee8",
   "metadata": {},
   "outputs": [
    {
     "data": {
      "text/html": [
       "<div>\n",
       "<style scoped>\n",
       "    .dataframe tbody tr th:only-of-type {\n",
       "        vertical-align: middle;\n",
       "    }\n",
       "\n",
       "    .dataframe tbody tr th {\n",
       "        vertical-align: top;\n",
       "    }\n",
       "\n",
       "    .dataframe thead th {\n",
       "        text-align: right;\n",
       "    }\n",
       "</style>\n",
       "<table border=\"1\" class=\"dataframe\">\n",
       "  <thead>\n",
       "    <tr style=\"text-align: right;\">\n",
       "      <th></th>\n",
       "      <th>weather_scale</th>\n",
       "    </tr>\n",
       "  </thead>\n",
       "  <tbody>\n",
       "    <tr>\n",
       "      <th>0</th>\n",
       "      <td>1.0</td>\n",
       "    </tr>\n",
       "    <tr>\n",
       "      <th>1</th>\n",
       "      <td>6.0</td>\n",
       "    </tr>\n",
       "    <tr>\n",
       "      <th>2</th>\n",
       "      <td>1.0</td>\n",
       "    </tr>\n",
       "    <tr>\n",
       "      <th>3</th>\n",
       "      <td>1.0</td>\n",
       "    </tr>\n",
       "    <tr>\n",
       "      <th>4</th>\n",
       "      <td>1.0</td>\n",
       "    </tr>\n",
       "  </tbody>\n",
       "</table>\n",
       "</div>"
      ],
      "text/plain": [
       "   weather_scale\n",
       "0            1.0\n",
       "1            6.0\n",
       "2            1.0\n",
       "3            1.0\n",
       "4            1.0"
      ]
     },
     "execution_count": 123,
     "metadata": {},
     "output_type": "execute_result"
    }
   ],
   "source": [
    "y_test.head()"
   ]
  },
  {
   "cell_type": "markdown",
   "id": "de14e649",
   "metadata": {},
   "source": [
    "### Target variable to pridict:\n",
    "* weather_scale \n"
   ]
  },
  {
   "cell_type": "code",
   "execution_count": 124,
   "id": "17ada253",
   "metadata": {},
   "outputs": [],
   "source": [
    "from sklearn.linear_model import LinearRegression\n",
    "from sklearn.model_selection import train_test_split\n",
    "import numpy as np"
   ]
  },
  {
   "cell_type": "code",
   "execution_count": 125,
   "id": "346a151d",
   "metadata": {},
   "outputs": [
    {
     "name": "stdout",
     "output_type": "stream",
     "text": [
      "[[2.10328403]\n",
      " [2.96818407]\n",
      " [2.73406738]\n",
      " [1.3345303 ]\n",
      " [2.57109635]]\n"
     ]
    }
   ],
   "source": [
    "# create model\n",
    "model = LinearRegression()\n",
    "\n",
    "# Fit training data to model \n",
    "model.fit(X_train, y_train)\n",
    "\n",
    "#Make predictions\n",
    "y_pred = model.predict(X_test)\n",
    "\n",
    "print(y_pred)"
   ]
  },
  {
   "cell_type": "markdown",
   "id": "2a01604f",
   "metadata": {},
   "source": [
    "### Measuring performance"
   ]
  },
  {
   "cell_type": "code",
   "execution_count": 127,
   "id": "b4707426",
   "metadata": {},
   "outputs": [
    {
     "ename": "ValueError",
     "evalue": "Found input variables with inconsistent numbers of samples: [114290, 5]",
     "output_type": "error",
     "traceback": [
      "\u001b[0;31m---------------------------------------------------------------------------\u001b[0m",
      "\u001b[0;31mValueError\u001b[0m                                Traceback (most recent call last)",
      "\u001b[0;32m/var/folders/8h/c55__m194j7fc1qp4ptyrjjr0000gn/T/ipykernel_3142/1473423399.py\u001b[0m in \u001b[0;36m<module>\u001b[0;34m\u001b[0m\n\u001b[1;32m      1\u001b[0m \u001b[0;32mfrom\u001b[0m \u001b[0msklearn\u001b[0m\u001b[0;34m.\u001b[0m\u001b[0mmetrics\u001b[0m \u001b[0;32mimport\u001b[0m \u001b[0mmean_absolute_error\u001b[0m\u001b[0;34m,\u001b[0m \u001b[0mmean_squared_error\u001b[0m\u001b[0;34m,\u001b[0m \u001b[0mr2_score\u001b[0m\u001b[0;34m\u001b[0m\u001b[0;34m\u001b[0m\u001b[0m\n\u001b[1;32m      2\u001b[0m \u001b[0;34m\u001b[0m\u001b[0m\n\u001b[0;32m----> 3\u001b[0;31m \u001b[0mmae\u001b[0m\u001b[0;34m=\u001b[0m \u001b[0mmean_absolute_error\u001b[0m\u001b[0;34m(\u001b[0m\u001b[0my_test\u001b[0m\u001b[0;34m,\u001b[0m \u001b[0my_pred\u001b[0m\u001b[0;34m)\u001b[0m\u001b[0;34m\u001b[0m\u001b[0;34m\u001b[0m\u001b[0m\n\u001b[0m\u001b[1;32m      4\u001b[0m \u001b[0mprint\u001b[0m\u001b[0;34m(\u001b[0m\u001b[0;34mf'MAE: {mae}'\u001b[0m\u001b[0;34m)\u001b[0m\u001b[0;34m\u001b[0m\u001b[0;34m\u001b[0m\u001b[0m\n\u001b[1;32m      5\u001b[0m \u001b[0;34m\u001b[0m\u001b[0m\n",
      "\u001b[0;32m/Library/Frameworks/Python.framework/Versions/3.10/lib/python3.10/site-packages/sklearn/metrics/_regression.py\u001b[0m in \u001b[0;36mmean_absolute_error\u001b[0;34m(y_true, y_pred, sample_weight, multioutput)\u001b[0m\n\u001b[1;32m    189\u001b[0m     \u001b[0;36m0.85\u001b[0m\u001b[0;34m...\u001b[0m\u001b[0;34m\u001b[0m\u001b[0;34m\u001b[0m\u001b[0m\n\u001b[1;32m    190\u001b[0m     \"\"\"\n\u001b[0;32m--> 191\u001b[0;31m     y_type, y_true, y_pred, multioutput = _check_reg_targets(\n\u001b[0m\u001b[1;32m    192\u001b[0m         \u001b[0my_true\u001b[0m\u001b[0;34m,\u001b[0m \u001b[0my_pred\u001b[0m\u001b[0;34m,\u001b[0m \u001b[0mmultioutput\u001b[0m\u001b[0;34m\u001b[0m\u001b[0;34m\u001b[0m\u001b[0m\n\u001b[1;32m    193\u001b[0m     )\n",
      "\u001b[0;32m/Library/Frameworks/Python.framework/Versions/3.10/lib/python3.10/site-packages/sklearn/metrics/_regression.py\u001b[0m in \u001b[0;36m_check_reg_targets\u001b[0;34m(y_true, y_pred, multioutput, dtype)\u001b[0m\n\u001b[1;32m     92\u001b[0m         \u001b[0mthe\u001b[0m \u001b[0mdtype\u001b[0m \u001b[0margument\u001b[0m \u001b[0mpassed\u001b[0m \u001b[0mto\u001b[0m \u001b[0mcheck_array\u001b[0m\u001b[0;34m.\u001b[0m\u001b[0;34m\u001b[0m\u001b[0;34m\u001b[0m\u001b[0m\n\u001b[1;32m     93\u001b[0m     \"\"\"\n\u001b[0;32m---> 94\u001b[0;31m     \u001b[0mcheck_consistent_length\u001b[0m\u001b[0;34m(\u001b[0m\u001b[0my_true\u001b[0m\u001b[0;34m,\u001b[0m \u001b[0my_pred\u001b[0m\u001b[0;34m)\u001b[0m\u001b[0;34m\u001b[0m\u001b[0;34m\u001b[0m\u001b[0m\n\u001b[0m\u001b[1;32m     95\u001b[0m     \u001b[0my_true\u001b[0m \u001b[0;34m=\u001b[0m \u001b[0mcheck_array\u001b[0m\u001b[0;34m(\u001b[0m\u001b[0my_true\u001b[0m\u001b[0;34m,\u001b[0m \u001b[0mensure_2d\u001b[0m\u001b[0;34m=\u001b[0m\u001b[0;32mFalse\u001b[0m\u001b[0;34m,\u001b[0m \u001b[0mdtype\u001b[0m\u001b[0;34m=\u001b[0m\u001b[0mdtype\u001b[0m\u001b[0;34m)\u001b[0m\u001b[0;34m\u001b[0m\u001b[0;34m\u001b[0m\u001b[0m\n\u001b[1;32m     96\u001b[0m     \u001b[0my_pred\u001b[0m \u001b[0;34m=\u001b[0m \u001b[0mcheck_array\u001b[0m\u001b[0;34m(\u001b[0m\u001b[0my_pred\u001b[0m\u001b[0;34m,\u001b[0m \u001b[0mensure_2d\u001b[0m\u001b[0;34m=\u001b[0m\u001b[0;32mFalse\u001b[0m\u001b[0;34m,\u001b[0m \u001b[0mdtype\u001b[0m\u001b[0;34m=\u001b[0m\u001b[0mdtype\u001b[0m\u001b[0;34m)\u001b[0m\u001b[0;34m\u001b[0m\u001b[0;34m\u001b[0m\u001b[0m\n",
      "\u001b[0;32m/Library/Frameworks/Python.framework/Versions/3.10/lib/python3.10/site-packages/sklearn/utils/validation.py\u001b[0m in \u001b[0;36mcheck_consistent_length\u001b[0;34m(*arrays)\u001b[0m\n\u001b[1;32m    330\u001b[0m     \u001b[0muniques\u001b[0m \u001b[0;34m=\u001b[0m \u001b[0mnp\u001b[0m\u001b[0;34m.\u001b[0m\u001b[0munique\u001b[0m\u001b[0;34m(\u001b[0m\u001b[0mlengths\u001b[0m\u001b[0;34m)\u001b[0m\u001b[0;34m\u001b[0m\u001b[0;34m\u001b[0m\u001b[0m\n\u001b[1;32m    331\u001b[0m     \u001b[0;32mif\u001b[0m \u001b[0mlen\u001b[0m\u001b[0;34m(\u001b[0m\u001b[0muniques\u001b[0m\u001b[0;34m)\u001b[0m \u001b[0;34m>\u001b[0m \u001b[0;36m1\u001b[0m\u001b[0;34m:\u001b[0m\u001b[0;34m\u001b[0m\u001b[0;34m\u001b[0m\u001b[0m\n\u001b[0;32m--> 332\u001b[0;31m         raise ValueError(\n\u001b[0m\u001b[1;32m    333\u001b[0m             \u001b[0;34m\"Found input variables with inconsistent numbers of samples: %r\"\u001b[0m\u001b[0;34m\u001b[0m\u001b[0;34m\u001b[0m\u001b[0m\n\u001b[1;32m    334\u001b[0m             \u001b[0;34m%\u001b[0m \u001b[0;34m[\u001b[0m\u001b[0mint\u001b[0m\u001b[0;34m(\u001b[0m\u001b[0ml\u001b[0m\u001b[0;34m)\u001b[0m \u001b[0;32mfor\u001b[0m \u001b[0ml\u001b[0m \u001b[0;32min\u001b[0m \u001b[0mlengths\u001b[0m\u001b[0;34m]\u001b[0m\u001b[0;34m\u001b[0m\u001b[0;34m\u001b[0m\u001b[0m\n",
      "\u001b[0;31mValueError\u001b[0m: Found input variables with inconsistent numbers of samples: [114290, 5]"
     ]
    }
   ],
   "source": [
    "from sklearn.metrics import mean_absolute_error, mean_squared_error, r2_score\n",
    "\n",
    "mae= mean_absolute_error(y_test, y_pred)\n",
    "print(f'MAE: {mae}')\n",
    "\n",
    "rmse = np.sqrt(mean_squared_error(y_test, y_pred))\n",
    "print(f'MSE: {rmse}')\n",
    "\n",
    "r2 = r2_score(y_test, y_pred)\n",
    "print(f'r2: {r2}')"
   ]
  },
  {
   "cell_type": "code",
   "execution_count": null,
   "id": "8a5e9521",
   "metadata": {},
   "outputs": [],
   "source": []
  },
  {
   "cell_type": "code",
   "execution_count": null,
   "id": "28ca730e",
   "metadata": {},
   "outputs": [],
   "source": []
  }
 ],
 "metadata": {
  "kernelspec": {
   "display_name": "Python 3 (ipykernel)",
   "language": "python",
   "name": "python3"
  },
  "language_info": {
   "codemirror_mode": {
    "name": "ipython",
    "version": 3
   },
   "file_extension": ".py",
   "mimetype": "text/x-python",
   "name": "python",
   "nbconvert_exporter": "python",
   "pygments_lexer": "ipython3",
   "version": "3.10.0"
  }
 },
 "nbformat": 4,
 "nbformat_minor": 5
}
