{
 "cells": [
  {
   "cell_type": "code",
   "execution_count": 5,
   "id": "a79fec6e",
   "metadata": {},
   "outputs": [],
   "source": [
    "import matplotlib.pyplot as plt\n",
    "import os\n",
    "import pandas as pd\n",
    "\n",
    "from sklearn.metrics import confusion_matrix\n",
    "from sklearn.naive_bayes import GaussianNB\n",
    "from sklearn.preprocessing import LabelEncoder"
   ]
  },
  {
   "cell_type": "code",
   "execution_count": 6,
   "id": "6bc86ac1",
   "metadata": {},
   "outputs": [
    {
     "name": "stderr",
     "output_type": "stream",
     "text": [
      "/var/folders/06/vdx5d26x60j4tt4cqzfnj7nr0000gn/T/ipykernel_13862/624625863.py:12: DtypeWarning: Columns (6) have mixed types. Specify dtype option on import or set low_memory=False.\n",
      "  input_data = pd.read_csv(f\"{ROOT_DIR}/data/input_data.csv\")\n"
     ]
    }
   ],
   "source": [
    "ROOT_DIR = os.path.dirname(os.path.abspath(\".\"))\n",
    "\n",
    "# Read train/test data\n",
    "\n",
    "x_train = pd.read_csv(f\"{ROOT_DIR}/data/x_train.csv\")\n",
    "y_train = pd.read_csv(f\"{ROOT_DIR}/data/y_train.csv\")\n",
    "\n",
    "x_test = pd.read_csv(f\"{ROOT_DIR}/data/x_test.csv\")\n",
    "y_test = pd.read_csv(f\"{ROOT_DIR}/data/y_test.csv\")\n",
    "\n",
    "# input_data\n",
    "input_data = pd.read_csv(f\"{ROOT_DIR}/data/input_data.csv\")"
   ]
  },
  {
   "cell_type": "code",
   "execution_count": 11,
   "id": "bed444bb",
   "metadata": {},
   "outputs": [
    {
     "name": "stdout",
     "output_type": "stream",
     "text": [
      "<class 'pandas.core.frame.DataFrame'>\n",
      "RangeIndex: 380965 entries, 0 to 380964\n",
      "Data columns (total 21 columns):\n",
      " #   Column                     Non-Null Count   Dtype  \n",
      "---  ------                     --------------   -----  \n",
      " 0   precipitationLast6Hours    40 non-null      float64\n",
      " 1   visibility                 344491 non-null  float64\n",
      " 2   barometricPressure         380866 non-null  float64\n",
      " 3   windDirection              380746 non-null  float64\n",
      " 4   relativeHumidity           380861 non-null  float64\n",
      " 5   heatIndex                  14 non-null      float64\n",
      " 6   rawMessage                 947 non-null     object \n",
      " 7   timestamp                  380965 non-null  object \n",
      " 8   maxTemperatureLast24Hours  0 non-null       float64\n",
      " 9   elevation                  380965 non-null  int64  \n",
      " 10  temperature                380865 non-null  float64\n",
      " 11  minTemperatureLast24Hours  0 non-null       float64\n",
      " 12  precipitationLastHour      46156 non-null   float64\n",
      " 13  precipitationLast3Hours    4784 non-null    float64\n",
      " 14  dewpoint                   895 non-null     float64\n",
      " 15  windChill                  60 non-null      float64\n",
      " 16  windGust                   54765 non-null   float64\n",
      " 17  seaLevelPressure           783 non-null     float64\n",
      " 18  windSpeed                  380820 non-null  float64\n",
      " 19  textDescription            380965 non-null  int64  \n",
      " 20  dewPoint                   379967 non-null  float64\n",
      "dtypes: float64(17), int64(2), object(2)\n",
      "memory usage: 61.0+ MB\n"
     ]
    }
   ],
   "source": [
    "input_data.info()"
   ]
  },
  {
   "cell_type": "code",
   "execution_count": 3,
   "id": "178cb93d",
   "metadata": {},
   "outputs": [
    {
     "data": {
      "text/plain": [
       "textDescription    \n",
       "Clear                  88176\n",
       "Partly Cloudy          66873\n",
       "Mostly Cloudy          41265\n",
       "Fog/Mist               26764\n",
       "Light Precipitation    24241\n",
       "Haze                   12230\n",
       "Precipitation           5897\n",
       "Heavy Precipitation     1206\n",
       "dtype: int64"
      ]
     },
     "execution_count": 3,
     "metadata": {},
     "output_type": "execute_result"
    }
   ],
   "source": [
    "y_train.value_counts()"
   ]
  },
  {
   "cell_type": "code",
   "execution_count": 4,
   "id": "8aeab9f3",
   "metadata": {},
   "outputs": [
    {
     "data": {
      "text/plain": [
       "array([[<AxesSubplot:title={'center':'temperature'}>,\n",
       "        <AxesSubplot:title={'center':'dewpoint'}>,\n",
       "        <AxesSubplot:title={'center':'windDirection'}>],\n",
       "       [<AxesSubplot:title={'center':'windSpeed'}>,\n",
       "        <AxesSubplot:title={'center':'barometricPressure'}>,\n",
       "        <AxesSubplot:title={'center':'visibility'}>],\n",
       "       [<AxesSubplot:title={'center':'seaLevelPressure'}>,\n",
       "        <AxesSubplot:title={'center':'relativeHumidity'}>,\n",
       "        <AxesSubplot:title={'center':'elevation'}>]], dtype=object)"
      ]
     },
     "execution_count": 4,
     "metadata": {},
     "output_type": "execute_result"
    },
    {
     "data": {
      "text/plain": [
       "<Figure size 432x288 with 0 Axes>"
      ]
     },
     "metadata": {},
     "output_type": "display_data"
    },
    {
     "data": {
      "image/png": "[encoded data removed]",
      "text/plain": [
       "<Figure size 432x288 with 9 Axes>"
      ]
     },
     "metadata": {
      "needs_background": "light"
     },
     "output_type": "display_data"
    }
   ],
   "source": [
    "plt.subplots_adjust(left=0.8,\n",
    "                    bottom=0.8, \n",
    "                    right=0.9, \n",
    "                    top=0.9, \n",
    "                    wspace=0.9, \n",
    "                    hspace=0.9)\n",
    "\n",
    "x_train.hist()"
   ]
  },
  {
   "cell_type": "code",
   "execution_count": 7,
   "id": "41962d2e",
   "metadata": {},
   "outputs": [
    {
     "name": "stdout",
     "output_type": "stream",
     "text": [
      "elevation           barometricPressure          -0.905584\n",
      "barometricPressure  elevation                   -0.905584\n",
      "relativeHumidity    visibility                  -0.488587\n",
      "visibility          relativeHumidity            -0.488587\n",
      "windGust            dewpoint                    -0.471911\n",
      "                                                   ...   \n",
      "dewPoint            elevation                         NaN\n",
      "                    minTemperatureLast24Hours         NaN\n",
      "                    dewpoint                          NaN\n",
      "                    windChill                         NaN\n",
      "                    seaLevelPressure                  NaN\n",
      "Length: 361, dtype: float64\n"
     ]
    }
   ],
   "source": [
    "# Convert categorical values to numeric\n",
    "label_encoder = LabelEncoder()\n",
    "input_data['textDescription'] = label_encoder.fit_transform(input_data['textDescription'])\n",
    "  \n",
    "# Create correlation matrix\n",
    "corr_mat = input_data.corr(method='pearson')\n",
    "  \n",
    "# Convert correlation matrix to 1-D Series and sort\n",
    "sorted_mat = corr_mat.unstack().sort_values()\n",
    "  \n",
    "print(sorted_mat)"
   ]
  },
  {
   "cell_type": "code",
   "execution_count": null,
   "id": "e40e0ec3",
   "metadata": {},
   "outputs": [],
   "source": [
    "# Train model\n",
    "gnb = GaussianNB().fit(x_train, y_train.values.ravel())\n",
    "\n",
    "# Predict \n",
    "gnb_predictions = gnb.predict(x_test)\n",
    "\n",
    "# accuracy on x_test\n",
    "accuracy = gnb.score(x_test, y_test)\n",
    "print(accuracy)\n",
    " \n",
    "# creating a confusion matrix\n",
    "cm = confusion_matrix(y_test, gnb_predictions)"
   ]
  },
  {
   "cell_type": "code",
   "execution_count": null,
   "id": "2b5aaa5f",
   "metadata": {},
   "outputs": [],
   "source": [
    "# Formulate result dataframe\n",
    "result = x_test.copy()\n",
    "result['expected'] = y_test\n",
    "result['predicted'] = gnb_predictions"
   ]
  },
  {
   "cell_type": "code",
   "execution_count": null,
   "id": "bdf2617d",
   "metadata": {},
   "outputs": [],
   "source": [
    "pd.set_option('display.max_rows', None)\n",
    "result[result['expected'] != result['predicted']]"
   ]
  },
  {
   "cell_type": "code",
   "execution_count": null,
   "id": "80af0e94",
   "metadata": {},
   "outputs": [],
   "source": [
    "cm"
   ]
  }
 ],
 "metadata": {
  "kernelspec": {
   "display_name": "Python [conda env:py310] *",
   "language": "python",
   "name": "conda-env-py310-py"
  },
  "language_info": {
   "codemirror_mode": {
    "name": "ipython",
    "version": 3
   },
   "file_extension": ".py",
   "mimetype": "text/x-python",
   "name": "python",
   "nbconvert_exporter": "python",
   "pygments_lexer": "ipython3",
   "version": "3.10.4"
  }
 },
 "nbformat": 4,
 "nbformat_minor": 5
}
