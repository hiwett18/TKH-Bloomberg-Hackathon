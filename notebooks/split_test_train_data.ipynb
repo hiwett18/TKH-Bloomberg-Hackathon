{
 "cells": [
  {
   "cell_type": "code",
   "execution_count": 1,
   "id": "66541bd4",
   "metadata": {},
   "outputs": [],
   "source": [
    "import os\n",
    "import pandas as pd\n",
    "\n",
    "from sklearn.model_selection import train_test_split"
   ]
  },
  {
   "cell_type": "code",
   "execution_count": 2,
   "id": "926225dc",
   "metadata": {},
   "outputs": [
    {
     "name": "stderr",
     "output_type": "stream",
     "text": [
      "/var/folders/06/vdx5d26x60j4tt4cqzfnj7nr0000gn/T/ipykernel_13947/19985557.py:3: DtypeWarning: Columns (6) have mixed types. Specify dtype option on import or set low_memory=False.\n",
      "  input_data = pd.read_csv(f\"{ROOT_DIR}/data/input_data.csv\")\n"
     ]
    }
   ],
   "source": [
    "ROOT_DIR = os.path.dirname(os.path.abspath(\".\"))\n",
    "\n",
    "input_data = pd.read_csv(f\"{ROOT_DIR}/data/input_data.csv\")"
   ]
  },
  {
   "cell_type": "code",
   "execution_count": 3,
   "id": "67027e0f",
   "metadata": {},
   "outputs": [],
   "source": [
    "columns_to_keep = [\"temperature\", \"dewPoint\", \"windDirection\", \"windSpeed\", \"barometricPressure\", \n",
    "                   \"visibility\", \"seaLevelPressure\", \"relativeHumidity\", \"elevation\", \"textDescription\"]\n",
    "input_data = input_data[columns_to_keep]"
   ]
  },
  {
   "cell_type": "code",
   "execution_count": 4,
   "id": "61290b9c",
   "metadata": {},
   "outputs": [
    {
     "data": {
      "text/plain": [
       "temperature              100\n",
       "dewPoint                 103\n",
       "windDirection            219\n",
       "windSpeed                145\n",
       "barometricPressure        99\n",
       "visibility             36474\n",
       "seaLevelPressure      380182\n",
       "relativeHumidity         104\n",
       "elevation                  0\n",
       "textDescription           36\n",
       "dtype: int64"
      ]
     },
     "execution_count": 4,
     "metadata": {},
     "output_type": "execute_result"
    }
   ],
   "source": [
    "input_data.isnull().sum()"
   ]
  },
  {
   "cell_type": "code",
   "execution_count": 5,
   "id": "3d0009d3",
   "metadata": {},
   "outputs": [],
   "source": [
    "y_data = input_data['textDescription']\n",
    "x_data = input_data.drop('textDescription', axis=1)"
   ]
  },
  {
   "cell_type": "code",
   "execution_count": 6,
   "id": "607c069b",
   "metadata": {},
   "outputs": [],
   "source": [
    "x_train, x_test, y_train, y_test = train_test_split(x_data, y_data, test_size=0.30, random_state=42)"
   ]
  },
  {
   "cell_type": "code",
   "execution_count": 7,
   "id": "b1502a1e",
   "metadata": {},
   "outputs": [
    {
     "data": {
      "text/plain": [
       "Clear                  88176\n",
       "Partly Cloudy          66873\n",
       "Mostly Cloudy          41265\n",
       "Fog/Mist               26764\n",
       "Light Precipitation    24241\n",
       "Haze                   12230\n",
       "Precipitation           5897\n",
       "Heavy Precipitation     1206\n",
       "Name: textDescription, dtype: int64"
      ]
     },
     "execution_count": 7,
     "metadata": {},
     "output_type": "execute_result"
    }
   ],
   "source": [
    "y_train.value_counts()"
   ]
  },
  {
   "cell_type": "code",
   "execution_count": 8,
   "id": "acca1941",
   "metadata": {},
   "outputs": [
    {
     "data": {
      "text/plain": [
       "Clear                  37802\n",
       "Partly Cloudy          28383\n",
       "Mostly Cloudy          17834\n",
       "Fog/Mist               11537\n",
       "Light Precipitation    10434\n",
       "Haze                    5209\n",
       "Precipitation           2543\n",
       "Heavy Precipitation      535\n",
       "Name: textDescription, dtype: int64"
      ]
     },
     "execution_count": 8,
     "metadata": {},
     "output_type": "execute_result"
    }
   ],
   "source": [
    "y_test.value_counts()"
   ]
  },
  {
   "cell_type": "code",
   "execution_count": 9,
   "id": "2f92ee08",
   "metadata": {},
   "outputs": [],
   "source": [
    "os.makedirs(f\"{ROOT_DIR}/data\", exist_ok=True) \n",
    " \n",
    "x_train.to_csv(f\"{ROOT_DIR}/data/x_train.csv\", index=False)\n",
    "x_test.to_csv(f\"{ROOT_DIR}/data/x_test.csv\", index=False)\n",
    "\n",
    "y_train.to_csv(f\"{ROOT_DIR}/data/y_train.csv\", index=False)\n",
    "y_test.to_csv(f\"{ROOT_DIR}/data/y_test.csv\", index=False)"
   ]
  }
 ],
 "metadata": {
  "kernelspec": {
   "display_name": "Python [conda env:py310] *",
   "language": "python",
   "name": "conda-env-py310-py"
  },
  "language_info": {
   "codemirror_mode": {
    "name": "ipython",
    "version": 3
   },
   "file_extension": ".py",
   "mimetype": "text/x-python",
   "name": "python",
   "nbconvert_exporter": "python",
   "pygments_lexer": "ipython3",
   "version": "3.10.4"
  }
 },
 "nbformat": 4,
 "nbformat_minor": 5
}
